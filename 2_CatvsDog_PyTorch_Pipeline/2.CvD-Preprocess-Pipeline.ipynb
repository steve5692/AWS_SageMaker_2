{
 "cells": [
  {
   "cell_type": "code",
   "execution_count": 1,
   "id": "34842bf1-7e30-4a64-a5c2-63f71d2efa05",
   "metadata": {},
   "outputs": [
    {
     "name": "stdout",
     "output_type": "stream",
     "text": [
      "Stored variables and their in-db values:\n",
      "bucket                     -> 'sagemaker-ap-northeast-2-242201274000'\n",
      "cat_data_uri               -> 's3://sagemaker-ap-northeast-2-242201274000/sagema\n",
      "dog_data_uri               -> 's3://sagemaker-ap-northeast-2-242201274000/sagema\n",
      "input_data_uri             -> 's3://sagemaker-ap-northeast-2-242201274000/sagema\n",
      "project_prefix             -> 'sagemaker-catvsdog-pipeline-base'\n"
     ]
    }
   ],
   "source": [
    "%store -r\n",
    "%store"
   ]
  },
  {
   "cell_type": "code",
   "execution_count": 2,
   "id": "01b9028e-e727-4539-a489-bcd806fb5f8f",
   "metadata": {},
   "outputs": [
    {
     "name": "stdout",
     "output_type": "stream",
     "text": [
      "sagemaker.config INFO - Not applying SDK defaults from location: /etc/xdg/sagemaker/config.yaml\n",
      "sagemaker.config INFO - Not applying SDK defaults from location: /home/sagemaker-user/.config/sagemaker/config.yaml\n",
      "SG Role:  arn:aws:iam::242201274000:role/service-role/AmazonSageMaker-ExecutionRole-20240923T230631\n"
     ]
    }
   ],
   "source": [
    "import boto3\n",
    "import sagemaker\n",
    "import pandas as pd\n",
    "from IPython.display import display as dp\n",
    "\n",
    "region = boto3.Session().region_name\n",
    "sagemaker_session = sagemaker.session.Session()\n",
    "role = sagemaker.get_execution_role()\n",
    "print('SG Role: ', role)"
   ]
  },
  {
   "cell_type": "code",
   "execution_count": 3,
   "id": "f44baaf2-8b48-48c2-8099-8e69976d3d97",
   "metadata": {},
   "outputs": [
    {
     "name": "stdout",
     "output_type": "stream",
     "text": [
      "Total Cat Images:  1000\n",
      "Total Dog Images:  1000\n"
     ]
    }
   ],
   "source": [
    "# 내 로컬에서 원본 데이터 확인\n",
    "import os\n",
    "\n",
    "local_data_dir = '../data/cvd_data'\n",
    "local_cat_dir = f'{local_data_dir}/cat'\n",
    "local_dog_dir = f'{local_data_dir}/dog'\n",
    "\n",
    "print(\"Total Cat Images: \", len(os.listdir(local_cat_dir)))\n",
    "print(\"Total Dog Images: \", len(os.listdir(local_dog_dir)))"
   ]
  },
  {
   "cell_type": "code",
   "execution_count": 4,
   "id": "75ebb48f-9c36-45a5-bd3d-3e3fe7797ab8",
   "metadata": {},
   "outputs": [
    {
     "name": "stdout",
     "output_type": "stream",
     "text": [
      "Stored 'preprocessing_code' (str)\n",
      "Stored 'local_cat_dir' (str)\n",
      "Stored 'local_dog_dir' (str)\n"
     ]
    }
   ],
   "source": [
    "# 전처리에 사용되는 스크립트\n",
    "preprocessing_code = 'src/cvd_preprocessing.py'\n",
    "%store preprocessing_code\n",
    "%store local_cat_dir\n",
    "%store local_dog_dir"
   ]
  },
  {
   "cell_type": "code",
   "execution_count": 5,
   "id": "60e48a8f-7b5c-48fc-a9ba-be8350fd1749",
   "metadata": {},
   "outputs": [],
   "source": [
    "base_output_dir = 'opt/ml/processing/output' \n",
    "\n",
    "# 도커 컨테이너의 입력 폴더와 비슷한 환경 기술\n",
    "base_preproc_input_dir = 'opt/ml/processing/input'\n",
    "os.makedirs(base_preproc_input_dir, exist_ok=True)\n",
    "\n",
    "# 출력 훈련 폴더를 기술 합니다.\n",
    "base_preproc_output_train_dir = 'opt/ml/processing/output/train/'\n",
    "os.makedirs(base_preproc_output_train_dir, exist_ok=True)\n",
    "\n",
    "# 출력 테스트 폴더를 기술 합니다.\n",
    "base_preproc_output_test_dir = 'opt/ml/processing/output/test/'\n",
    "os.makedirs(base_preproc_output_test_dir, exist_ok=True)\n",
    "\n",
    "\n",
    "split_rate = 0.9"
   ]
  },
  {
   "cell_type": "code",
   "execution_count": 6,
   "id": "d872c3de-4cff-4490-b7ac-c213e770d83c",
   "metadata": {},
   "outputs": [],
   "source": [
    "! cp -r {local_cat_dir} {base_preproc_input_dir}\n",
    "! cp -r {local_dog_dir} {base_preproc_input_dir}"
   ]
  },
  {
   "cell_type": "code",
   "execution_count": 7,
   "id": "556d6206-d326-474c-b576-3ef3a5fab4f1",
   "metadata": {},
   "outputs": [
    {
     "name": "stdout",
     "output_type": "stream",
     "text": [
      "#### Argument Info ####\n",
      "args.base_output_dir: opt/ml/processing/output\n",
      "args.base_preproc_input_dir: opt/ml/processing/input\n",
      "args.split_rate: 0.9\n",
      "Dataset Split Complete!\n",
      "Before: Cat: 1000, Dog: 1000\n",
      "After: <Train> Cat: 993, Dog: 994\n",
      "        <Test> Cat: 193, Dog: 194\n"
     ]
    }
   ],
   "source": [
    "! python {preprocessing_code} --base_preproc_input_dir {base_preproc_input_dir} \\\n",
    "                              --base_output_dir {base_output_dir} \\\n",
    "                              --split_rate {split_rate}"
   ]
  },
  {
   "cell_type": "code",
   "execution_count": 8,
   "id": "01d6f81c-d128-4e99-b039-41c638cc0775",
   "metadata": {},
   "outputs": [],
   "source": [
    "# Pipeline Parameter 정의\n",
    "from sagemaker.workflow.parameters import ParameterInteger, ParameterString\n",
    "\n",
    "processing_instance_count = ParameterInteger(\n",
    "    name='ProcessingInstanceCount',\n",
    "    default_value=1\n",
    ")\n",
    "\n",
    "processing_instance_type = ParameterString(\n",
    "    name='ProcessingInstanceType',\n",
    "    default_value=\"ml.m5.xlarge\"\n",
    ")\n",
    "\n",
    "input_data = ParameterString(\n",
    "    name='InputData',\n",
    "    default_value=input_data_uri\n",
    ")"
   ]
  },
  {
   "cell_type": "code",
   "execution_count": 9,
   "id": "49517b68-589e-41d2-94f3-f685ade6006d",
   "metadata": {},
   "outputs": [],
   "source": [
    "# Pipeline Processor 정의"
   ]
  },
  {
   "cell_type": "code",
   "execution_count": 10,
   "id": "5755fb62-bc0f-49fc-b76a-6930075d8c6a",
   "metadata": {},
   "outputs": [],
   "source": [
    "# from sagemaker.pytorch.processing import PyTorchProcessor\n",
    "\n",
    "# pytorch_processor = PyTorchProcessor(\n",
    "#     framework_version='1.8',\n",
    "#     role=role,\n",
    "#     instance_type=processing_instance_type,\n",
    "#     instance_count=processing_instance_count,\n",
    "#     base_job_name='CvD-PyTorch-Preprocessing'\n",
    "# )"
   ]
  },
  {
   "cell_type": "code",
   "execution_count": 11,
   "id": "7657872b-0716-4446-8cc2-175127156d1c",
   "metadata": {},
   "outputs": [
    {
     "name": "stderr",
     "output_type": "stream",
     "text": [
      "The input argument instance_type of function (sagemaker.image_uris.retrieve) is a pipeline variable (<class 'sagemaker.workflow.parameters.ParameterString'>), which is interpreted in pipeline execution time only. As the function needs to evaluate the argument value in SDK compile time, the default_value of this Parameter object will be used to override it. Please make sure the default_value is valid.\n"
     ]
    }
   ],
   "source": [
    "from sagemaker.sklearn.processing import SKLearnProcessor\n",
    "\n",
    "framework_version = '1.0-1'\n",
    "\n",
    "sklearn_processor = SKLearnProcessor(\n",
    "    framework_version=framework_version,\n",
    "    instance_type=processing_instance_type,\n",
    "    instance_count=processing_instance_count,\n",
    "    base_job_name='sklearn-CvD-process',\n",
    "    role=role\n",
    ")"
   ]
  },
  {
   "cell_type": "code",
   "execution_count": 12,
   "id": "a7fd8e21-3241-4fec-94ce-7693c0455c04",
   "metadata": {},
   "outputs": [],
   "source": [
    "from sagemaker.processing import ProcessingInput, ProcessingOutput\n",
    "from sagemaker.workflow.steps import ProcessingStep\n",
    "\n",
    "step_process = ProcessingStep(\n",
    "    name='CvD-Basic-Process',\n",
    "    processor=sklearn_processor,\n",
    "    inputs = [ProcessingInput(source=input_data_uri, destination='/opt/ml/processing/input')],\n",
    "    outputs = [ProcessingOutput(output_name='train', source='/opt/ml/processing/output/train'),\n",
    "              ProcessingOutput(output_name='test', source='/opt/ml/processing/output/test')],\n",
    "    job_arguments=[\"--split_rate\", f\"{split_rate}\"],\n",
    "    code = preprocessing_code\n",
    ")"
   ]
  },
  {
   "cell_type": "code",
   "execution_count": 13,
   "id": "331848c5-7cbc-4483-b854-cc3a65f49192",
   "metadata": {},
   "outputs": [],
   "source": [
    "from sagemaker.workflow.pipeline import Pipeline\n",
    "\n",
    "pipeline_name = project_prefix\n",
    "pipeline = Pipeline(\n",
    "    name=pipeline_name,\n",
    "    parameters=[\n",
    "        processing_instance_type,\n",
    "        processing_instance_count,\n",
    "        input_data\n",
    "    ],\n",
    "    steps=[step_process]\n",
    ")"
   ]
  },
  {
   "cell_type": "code",
   "execution_count": 14,
   "id": "188d5855-9cf2-4c82-b02d-52d467aa514a",
   "metadata": {},
   "outputs": [
    {
     "name": "stderr",
     "output_type": "stream",
     "text": [
      "WARNING:sagemaker.workflow.utilities:Popping out 'ProcessingJobName' from the pipeline definition by default since it will be overridden at pipeline execution time. Please utilize the PipelineDefinitionConfig to persist this field in the pipeline definition if desired.\n"
     ]
    },
    {
     "data": {
      "text/plain": [
       "{'Version': '2020-12-01',\n",
       " 'Metadata': {},\n",
       " 'Parameters': [{'Name': 'ProcessingInstanceType',\n",
       "   'Type': 'String',\n",
       "   'DefaultValue': 'ml.m5.xlarge'},\n",
       "  {'Name': 'ProcessingInstanceCount', 'Type': 'Integer', 'DefaultValue': 1},\n",
       "  {'Name': 'InputData',\n",
       "   'Type': 'String',\n",
       "   'DefaultValue': 's3://sagemaker-ap-northeast-2-242201274000/sagemaker-catvsdog-pipeline-base/input'}],\n",
       " 'PipelineExperimentConfig': {'ExperimentName': {'Get': 'Execution.PipelineName'},\n",
       "  'TrialName': {'Get': 'Execution.PipelineExecutionId'}},\n",
       " 'Steps': [{'Name': 'CvD-Basic-Process',\n",
       "   'Type': 'Processing',\n",
       "   'Arguments': {'ProcessingResources': {'ClusterConfig': {'InstanceType': {'Get': 'Parameters.ProcessingInstanceType'},\n",
       "      'InstanceCount': {'Get': 'Parameters.ProcessingInstanceCount'},\n",
       "      'VolumeSizeInGB': 30}},\n",
       "    'AppSpecification': {'ImageUri': '366743142698.dkr.ecr.ap-northeast-2.amazonaws.com/sagemaker-scikit-learn:1.0-1-cpu-py3',\n",
       "     'ContainerArguments': ['--split_rate', '0.9'],\n",
       "     'ContainerEntrypoint': ['python3',\n",
       "      '/opt/ml/processing/input/code/cvd_preprocessing.py']},\n",
       "    'RoleArn': 'arn:aws:iam::242201274000:role/service-role/AmazonSageMaker-ExecutionRole-20240923T230631',\n",
       "    'ProcessingInputs': [{'InputName': 'input-1',\n",
       "      'AppManaged': False,\n",
       "      'S3Input': {'S3Uri': 's3://sagemaker-ap-northeast-2-242201274000/sagemaker-catvsdog-pipeline-base/input',\n",
       "       'LocalPath': '/opt/ml/processing/input',\n",
       "       'S3DataType': 'S3Prefix',\n",
       "       'S3InputMode': 'File',\n",
       "       'S3DataDistributionType': 'FullyReplicated',\n",
       "       'S3CompressionType': 'None'}},\n",
       "     {'InputName': 'code',\n",
       "      'AppManaged': False,\n",
       "      'S3Input': {'S3Uri': 's3://sagemaker-ap-northeast-2-242201274000/CvD-Basic-Process-4db2460261d35f2a80136f1dd4a61b8b/input/code/cvd_preprocessing.py',\n",
       "       'LocalPath': '/opt/ml/processing/input/code',\n",
       "       'S3DataType': 'S3Prefix',\n",
       "       'S3InputMode': 'File',\n",
       "       'S3DataDistributionType': 'FullyReplicated',\n",
       "       'S3CompressionType': 'None'}}],\n",
       "    'ProcessingOutputConfig': {'Outputs': [{'OutputName': 'train',\n",
       "       'AppManaged': False,\n",
       "       'S3Output': {'S3Uri': {'Std:Join': {'On': '/',\n",
       "          'Values': ['s3:/',\n",
       "           'sagemaker-ap-northeast-2-242201274000',\n",
       "           'sagemaker-catvsdog-pipeline-base',\n",
       "           {'Get': 'Execution.PipelineExecutionId'},\n",
       "           'CvD-Basic-Process',\n",
       "           'output',\n",
       "           'train']}},\n",
       "        'LocalPath': '/opt/ml/processing/output/train',\n",
       "        'S3UploadMode': 'EndOfJob'}},\n",
       "      {'OutputName': 'test',\n",
       "       'AppManaged': False,\n",
       "       'S3Output': {'S3Uri': {'Std:Join': {'On': '/',\n",
       "          'Values': ['s3:/',\n",
       "           'sagemaker-ap-northeast-2-242201274000',\n",
       "           'sagemaker-catvsdog-pipeline-base',\n",
       "           {'Get': 'Execution.PipelineExecutionId'},\n",
       "           'CvD-Basic-Process',\n",
       "           'output',\n",
       "           'test']}},\n",
       "        'LocalPath': '/opt/ml/processing/output/test',\n",
       "        'S3UploadMode': 'EndOfJob'}}]}}}]}"
      ]
     },
     "execution_count": 14,
     "metadata": {},
     "output_type": "execute_result"
    }
   ],
   "source": [
    "import json\n",
    "\n",
    "definition = json.loads(pipeline.definition())\n",
    "definition"
   ]
  },
  {
   "cell_type": "code",
   "execution_count": 15,
   "id": "474a7ea4-9fd1-4144-8c8b-590b470d8d63",
   "metadata": {},
   "outputs": [
    {
     "name": "stderr",
     "output_type": "stream",
     "text": [
      "WARNING:sagemaker.workflow.utilities:Popping out 'ProcessingJobName' from the pipeline definition by default since it will be overridden at pipeline execution time. Please utilize the PipelineDefinitionConfig to persist this field in the pipeline definition if desired.\n",
      "WARNING:sagemaker.workflow.utilities:Popping out 'ProcessingJobName' from the pipeline definition by default since it will be overridden at pipeline execution time. Please utilize the PipelineDefinitionConfig to persist this field in the pipeline definition if desired.\n"
     ]
    }
   ],
   "source": [
    "# Pipeline 등록, 실행\n",
    "pipeline.upsert(role_arn=role)\n",
    "execution = pipeline.start()"
   ]
  },
  {
   "cell_type": "code",
   "execution_count": 16,
   "id": "e682f14c-46a6-4bab-9eb2-8c49423c62e7",
   "metadata": {},
   "outputs": [
    {
     "data": {
      "text/plain": [
       "{'PipelineArn': 'arn:aws:sagemaker:ap-northeast-2:242201274000:pipeline/sagemaker-catvsdog-pipeline-base',\n",
       " 'PipelineExecutionArn': 'arn:aws:sagemaker:ap-northeast-2:242201274000:pipeline/sagemaker-catvsdog-pipeline-base/execution/oplfrhj1u8qa',\n",
       " 'PipelineExecutionDisplayName': 'execution-1731398902199',\n",
       " 'PipelineExecutionStatus': 'Executing',\n",
       " 'CreationTime': datetime.datetime(2024, 11, 12, 8, 8, 22, 143000, tzinfo=tzlocal()),\n",
       " 'LastModifiedTime': datetime.datetime(2024, 11, 12, 8, 8, 22, 143000, tzinfo=tzlocal()),\n",
       " 'CreatedBy': {'UserProfileArn': 'arn:aws:sagemaker:ap-northeast-2:242201274000:user-profile/d-l0dltcg6j4kj/default-20240923T230629',\n",
       "  'UserProfileName': 'default-20240923T230629',\n",
       "  'DomainId': 'd-l0dltcg6j4kj',\n",
       "  'IamIdentity': {'Arn': 'arn:aws:sts::242201274000:assumed-role/AmazonSageMaker-ExecutionRole-20240923T230631/SageMaker',\n",
       "   'PrincipalId': 'AROATQZCSE2IHHIBWPD6G:SageMaker'}},\n",
       " 'LastModifiedBy': {'UserProfileArn': 'arn:aws:sagemaker:ap-northeast-2:242201274000:user-profile/d-l0dltcg6j4kj/default-20240923T230629',\n",
       "  'UserProfileName': 'default-20240923T230629',\n",
       "  'DomainId': 'd-l0dltcg6j4kj',\n",
       "  'IamIdentity': {'Arn': 'arn:aws:sts::242201274000:assumed-role/AmazonSageMaker-ExecutionRole-20240923T230631/SageMaker',\n",
       "   'PrincipalId': 'AROATQZCSE2IHHIBWPD6G:SageMaker'}},\n",
       " 'ResponseMetadata': {'RequestId': 'bc526abe-1209-45e9-a827-6f91744b3c6c',\n",
       "  'HTTPStatusCode': 200,\n",
       "  'HTTPHeaders': {'x-amzn-requestid': 'bc526abe-1209-45e9-a827-6f91744b3c6c',\n",
       "   'content-type': 'application/x-amz-json-1.1',\n",
       "   'content-length': '1149',\n",
       "   'date': 'Tue, 12 Nov 2024 08:08:21 GMT'},\n",
       "  'RetryAttempts': 0}}"
      ]
     },
     "execution_count": 16,
     "metadata": {},
     "output_type": "execute_result"
    }
   ],
   "source": [
    "execution.describe()"
   ]
  },
  {
   "cell_type": "code",
   "execution_count": 17,
   "id": "b9df1ca6-934e-4727-a42f-06e8d7b495f5",
   "metadata": {},
   "outputs": [],
   "source": [
    "execution.wait()"
   ]
  },
  {
   "cell_type": "code",
   "execution_count": 18,
   "id": "283097a9-8c91-4275-bb87-aa1520fdb586",
   "metadata": {},
   "outputs": [
    {
     "data": {
      "text/plain": [
       "[{'StepName': 'CvD-Basic-Process',\n",
       "  'StartTime': datetime.datetime(2024, 11, 12, 8, 8, 23, 82000, tzinfo=tzlocal()),\n",
       "  'EndTime': datetime.datetime(2024, 11, 12, 8, 10, 57, 179000, tzinfo=tzlocal()),\n",
       "  'StepStatus': 'Succeeded',\n",
       "  'Metadata': {'ProcessingJob': {'Arn': 'arn:aws:sagemaker:ap-northeast-2:242201274000:processing-job/pipelines-oplfrhj1u8qa-CvD-Basic-Process-ApF0W168nu'}},\n",
       "  'AttemptCount': 1}]"
      ]
     },
     "execution_count": 18,
     "metadata": {},
     "output_type": "execute_result"
    }
   ],
   "source": [
    "execution.list_steps()"
   ]
  },
  {
   "cell_type": "code",
   "execution_count": 23,
   "id": "6e5a096d-518c-49d3-9c2d-f33cc264814c",
   "metadata": {},
   "outputs": [
    {
     "name": "stdout",
     "output_type": "stream",
     "text": [
      "output-train:  s3://sagemaker-ap-northeast-2-242201274000/sagemaker-catvsdog-pipeline-base/oplfrhj1u8qa/CvD-Basic-Process/output/train\n",
      "output-test :  s3://sagemaker-ap-northeast-2-242201274000/sagemaker-catvsdog-pipeline-base/oplfrhj1u8qa/CvD-Basic-Process/output/test\n"
     ]
    }
   ],
   "source": [
    "# 전처리 후 결과 파일 경로 추출\n",
    "import boto3\n",
    "from src.my_sg_utils import get_proc_artifact\n",
    "\n",
    "\n",
    "client = boto3.client(\"sagemaker\")\n",
    "\n",
    "train_preproc_dir_artifact = get_proc_artifact(execution, client, kind=0)\n",
    "test_preproc_dir_artifact = get_proc_artifact(execution, client, kind=1)\n",
    "\n",
    "print('output-train: ', train_preproc_dir_artifact)\n",
    "print('output-test : ', test_preproc_dir_artifact)"
   ]
  },
  {
   "cell_type": "code",
   "execution_count": 24,
   "id": "83815dd9-4d7d-4dc4-9aa8-ae10acbfa755",
   "metadata": {},
   "outputs": [
    {
     "name": "stdout",
     "output_type": "stream",
     "text": [
      "Stored 'train_preproc_dir_artifact' (str)\n",
      "Stored 'test_preproc_dir_artifact' (str)\n"
     ]
    }
   ],
   "source": [
    "%store train_preproc_dir_artifact\n",
    "%store test_preproc_dir_artifact"
   ]
  },
  {
   "cell_type": "code",
   "execution_count": null,
   "id": "e3e8a786-d0c3-4b57-ba61-49ac508349a2",
   "metadata": {},
   "outputs": [],
   "source": []
  },
  {
   "cell_type": "code",
   "execution_count": null,
   "id": "9a49350c-afda-496d-bea2-f4010d6ec7c7",
   "metadata": {},
   "outputs": [],
   "source": []
  },
  {
   "cell_type": "code",
   "execution_count": null,
   "id": "dda84cb4-7730-40fe-ad6d-d69b9a7807d2",
   "metadata": {},
   "outputs": [],
   "source": []
  },
  {
   "cell_type": "code",
   "execution_count": null,
   "id": "12ccf4d0-00f0-4196-92e6-db4757b915b9",
   "metadata": {},
   "outputs": [],
   "source": []
  },
  {
   "cell_type": "code",
   "execution_count": null,
   "id": "7a3be802-3d76-4845-9c06-202775db6808",
   "metadata": {},
   "outputs": [],
   "source": []
  },
  {
   "cell_type": "code",
   "execution_count": null,
   "id": "1cdc9fd6-9240-4c96-a3ec-125ba6349731",
   "metadata": {},
   "outputs": [],
   "source": []
  },
  {
   "cell_type": "code",
   "execution_count": null,
   "id": "919a433e-6f7f-47c8-b5d3-90281bcc7307",
   "metadata": {},
   "outputs": [],
   "source": []
  },
  {
   "cell_type": "code",
   "execution_count": null,
   "id": "bfa23fb8-51b5-453d-9b3e-c7f1d2081925",
   "metadata": {},
   "outputs": [],
   "source": []
  },
  {
   "cell_type": "code",
   "execution_count": null,
   "id": "8b951d47-8160-43b4-a363-85694c39f0bb",
   "metadata": {},
   "outputs": [],
   "source": []
  },
  {
   "cell_type": "code",
   "execution_count": null,
   "id": "d7dffd6c-8f6e-445c-bb55-07d64f2c9e24",
   "metadata": {},
   "outputs": [],
   "source": []
  },
  {
   "cell_type": "code",
   "execution_count": null,
   "id": "bdd433d1-b0c5-4ca5-9380-ba97dd736aa4",
   "metadata": {},
   "outputs": [],
   "source": []
  },
  {
   "cell_type": "code",
   "execution_count": null,
   "id": "e8a58cd0-59c3-4758-854c-08a47e55c051",
   "metadata": {},
   "outputs": [],
   "source": []
  },
  {
   "cell_type": "code",
   "execution_count": null,
   "id": "b97de139-51d3-4588-a1bc-c3d6e24ce4de",
   "metadata": {},
   "outputs": [],
   "source": []
  },
  {
   "cell_type": "code",
   "execution_count": null,
   "id": "340e452b-2712-4752-b5ff-e2f3d737e0a1",
   "metadata": {},
   "outputs": [],
   "source": []
  },
  {
   "cell_type": "code",
   "execution_count": null,
   "id": "ad79ea54-d957-4e87-9c75-1a17113d86ab",
   "metadata": {},
   "outputs": [],
   "source": []
  },
  {
   "cell_type": "code",
   "execution_count": null,
   "id": "3a62f070-5f0d-479e-bb10-da570f68ceb1",
   "metadata": {},
   "outputs": [],
   "source": []
  },
  {
   "cell_type": "code",
   "execution_count": null,
   "id": "92a6a65b-43c5-4790-a3d5-aecd28e90584",
   "metadata": {},
   "outputs": [],
   "source": []
  },
  {
   "cell_type": "code",
   "execution_count": null,
   "id": "ca8badfc-9d8a-4e8c-97b7-ccf461e0864a",
   "metadata": {},
   "outputs": [],
   "source": []
  },
  {
   "cell_type": "code",
   "execution_count": null,
   "id": "3a407aa6-a9c9-4199-82a1-ddea1cf385d0",
   "metadata": {},
   "outputs": [],
   "source": []
  },
  {
   "cell_type": "code",
   "execution_count": null,
   "id": "1d702ac7-a413-410e-8fc8-17657e7596a6",
   "metadata": {},
   "outputs": [],
   "source": []
  },
  {
   "cell_type": "code",
   "execution_count": null,
   "id": "ce90e561-247a-4744-8020-9e6331093ec0",
   "metadata": {},
   "outputs": [],
   "source": []
  },
  {
   "cell_type": "code",
   "execution_count": null,
   "id": "f715a635-53c9-4cec-b4a1-36ec493426f5",
   "metadata": {},
   "outputs": [],
   "source": []
  },
  {
   "cell_type": "code",
   "execution_count": null,
   "id": "db3d781d-a15a-4354-86cf-66f9ec328fd7",
   "metadata": {},
   "outputs": [],
   "source": []
  },
  {
   "cell_type": "code",
   "execution_count": null,
   "id": "7ead5f74-9a1c-42b3-9e2a-8f515af8e0ee",
   "metadata": {},
   "outputs": [],
   "source": []
  },
  {
   "cell_type": "code",
   "execution_count": null,
   "id": "d64909c1-4627-4e49-8529-0e765576214f",
   "metadata": {},
   "outputs": [],
   "source": []
  },
  {
   "cell_type": "code",
   "execution_count": null,
   "id": "7566950b-987a-42b3-85a2-d11cd68e4534",
   "metadata": {},
   "outputs": [],
   "source": []
  },
  {
   "cell_type": "code",
   "execution_count": null,
   "id": "0a16bc8b-91af-483c-9396-068af0103766",
   "metadata": {},
   "outputs": [],
   "source": []
  }
 ],
 "metadata": {
  "kernelspec": {
   "display_name": "Python 3 (ipykernel)",
   "language": "python",
   "name": "python3"
  },
  "language_info": {
   "codemirror_mode": {
    "name": "ipython",
    "version": 3
   },
   "file_extension": ".py",
   "mimetype": "text/x-python",
   "name": "python",
   "nbconvert_exporter": "python",
   "pygments_lexer": "ipython3",
   "version": "3.11.9"
  }
 },
 "nbformat": 4,
 "nbformat_minor": 5
}
