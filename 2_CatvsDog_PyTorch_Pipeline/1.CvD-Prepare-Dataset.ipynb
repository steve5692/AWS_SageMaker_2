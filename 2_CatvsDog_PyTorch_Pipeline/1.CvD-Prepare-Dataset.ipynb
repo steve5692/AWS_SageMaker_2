{
 "cells": [
  {
   "cell_type": "code",
   "execution_count": 1,
   "id": "2dfa86c5-6118-4ce7-8593-2bfb56a42e3b",
   "metadata": {},
   "outputs": [
    {
     "name": "stdout",
     "output_type": "stream",
     "text": [
      "sagemaker.config INFO - Not applying SDK defaults from location: /etc/xdg/sagemaker/config.yaml\n",
      "sagemaker.config INFO - Not applying SDK defaults from location: /home/sagemaker-user/.config/sagemaker/config.yaml\n",
      "now using bucket:  sagemaker-ap-northeast-2-242201274000\n"
     ]
    }
   ],
   "source": [
    "import sagemaker\n",
    "import os\n",
    "import pandas as pd\n",
    "\n",
    "DEFAULT_BUCKET = True\n",
    "if DEFAULT_BUCKET:\n",
    "    sagemaker_session = sagemaker.session.Session()\n",
    "    bucket = sagemaker_session.default_bucket()\n",
    "else:\n",
    "    bucket = \"<사용자 버켓 이름>\"\n",
    "    \n",
    "print(\"now using bucket: \", bucket)"
   ]
  },
  {
   "cell_type": "code",
   "execution_count": 2,
   "id": "24a2fdb0-7956-4a87-89a6-b320ee534f74",
   "metadata": {},
   "outputs": [
    {
     "name": "stdout",
     "output_type": "stream",
     "text": [
      "cat_data_dir:  ../data/cvd_data/cat\n",
      "dog_data_dir:  ../data/cvd_data/dog\n",
      "input_data_uri:  s3://sagemaker-ap-northeast-2-242201274000/sagemaker-catvsdog-pipeline-base/input \n",
      "\n",
      "cat images: 1000\n",
      "dog images: 1000\n"
     ]
    }
   ],
   "source": [
    "# 프로젝트 변수\n",
    "project_prefix = 'sagemaker-catvsdog-pipeline-base'\n",
    "\n",
    "# 원본 데이터 위치 \n",
    "dataset_prefix = f'{project_prefix}/input'\n",
    "\n",
    "# 노트북안에서 데이터 위치\n",
    "data_dir = '../data/cvd_data'\n",
    "cat_data_dir = f\"{data_dir}/cat\"\n",
    "dog_data_dir = f\"{data_dir}/dog\"\n",
    "\n",
    "# S3에 저장되는 데이터의 기본 폴더 위치\n",
    "input_data_uri = f\"s3://{bucket}/{dataset_prefix}\"\n",
    "\n",
    "print('cat_data_dir: ', cat_data_dir)\n",
    "print('dog_data_dir: ', dog_data_dir)\n",
    "print('input_data_uri: ', input_data_uri, \"\\n\")\n",
    "\n",
    "print(f'cat images: {len(os.listdir(cat_data_dir))}')\n",
    "print(f'dog images: {len(os.listdir(dog_data_dir))}')"
   ]
  },
  {
   "cell_type": "code",
   "execution_count": 3,
   "id": "be7dea63-750c-47e2-a74c-49e04b955330",
   "metadata": {},
   "outputs": [
    {
     "name": "stdout",
     "output_type": "stream",
     "text": [
      "cat_data_uri in S3: \n",
      " s3://sagemaker-ap-northeast-2-242201274000/sagemaker-catvsdog-pipeline-base/input/cat\n",
      "dog_data_uri in S3: \n",
      " s3://sagemaker-ap-northeast-2-242201274000/sagemaker-catvsdog-pipeline-base/input/dog\n"
     ]
    }
   ],
   "source": [
    "cat_data_uri = sagemaker.s3.S3Uploader.upload(\n",
    "    local_path=cat_data_dir, \n",
    "    desired_s3_uri=os.path.join(input_data_uri,\"cat\")    \n",
    ")\n",
    "print(\"cat_data_uri in S3: \\n\", cat_data_uri)\n",
    "\n",
    "dog_data_uri = sagemaker.s3.S3Uploader.upload(\n",
    "    local_path=dog_data_dir, \n",
    "    desired_s3_uri=os.path.join(input_data_uri, \"dog\")    \n",
    ")\n",
    "print(\"dog_data_uri in S3: \\n\", dog_data_uri)"
   ]
  },
  {
   "cell_type": "code",
   "execution_count": 4,
   "id": "ce1cb151-9f4d-4aaf-9917-2cbe264cef5c",
   "metadata": {},
   "outputs": [
    {
     "name": "stdout",
     "output_type": "stream",
     "text": [
      "Stored variables and their in-db values:\n"
     ]
    }
   ],
   "source": [
    "%store -z\n",
    "%store"
   ]
  },
  {
   "cell_type": "code",
   "execution_count": 5,
   "id": "493754d0-cba6-4e48-857b-46267ec737b7",
   "metadata": {},
   "outputs": [
    {
     "name": "stdout",
     "output_type": "stream",
     "text": [
      "Stored 'project_prefix' (str)\n",
      "Stored 'input_data_uri' (str)\n",
      "Stored 'cat_data_uri' (str)\n",
      "Stored 'dog_data_uri' (str)\n",
      "Stored 'bucket' (str)\n"
     ]
    }
   ],
   "source": [
    "%store project_prefix\n",
    "%store input_data_uri\n",
    "%store cat_data_uri\n",
    "%store dog_data_uri\n",
    "%store bucket"
   ]
  },
  {
   "cell_type": "code",
   "execution_count": 6,
   "id": "3b2ea90d-c6e5-4a19-a627-588d3006efc3",
   "metadata": {},
   "outputs": [
    {
     "name": "stdout",
     "output_type": "stream",
     "text": [
      "Stored variables and their in-db values:\n",
      "bucket                     -> 'sagemaker-ap-northeast-2-242201274000'\n",
      "cat_data_uri               -> 's3://sagemaker-ap-northeast-2-242201274000/sagema\n",
      "dog_data_uri               -> 's3://sagemaker-ap-northeast-2-242201274000/sagema\n",
      "input_data_uri             -> 's3://sagemaker-ap-northeast-2-242201274000/sagema\n",
      "project_prefix             -> 'sagemaker-catvsdog-pipeline-base'\n"
     ]
    }
   ],
   "source": [
    "%store"
   ]
  },
  {
   "cell_type": "code",
   "execution_count": null,
   "id": "fd3ba17f-cdc9-4331-9581-aaeee618c2b2",
   "metadata": {},
   "outputs": [],
   "source": []
  },
  {
   "cell_type": "code",
   "execution_count": null,
   "id": "d14249fa-1f52-4909-bacd-6923d7ce0760",
   "metadata": {},
   "outputs": [],
   "source": []
  },
  {
   "cell_type": "code",
   "execution_count": null,
   "id": "e20a2db8-93a9-4ec0-9da5-c6fcc6408bed",
   "metadata": {},
   "outputs": [],
   "source": []
  },
  {
   "cell_type": "code",
   "execution_count": null,
   "id": "33378f6c-1088-4cbe-80ba-cb9684effabd",
   "metadata": {},
   "outputs": [],
   "source": []
  },
  {
   "cell_type": "code",
   "execution_count": null,
   "id": "407c9114-5976-45f0-b53a-379309d66b5b",
   "metadata": {},
   "outputs": [],
   "source": []
  },
  {
   "cell_type": "code",
   "execution_count": null,
   "id": "515d319c-ef0d-4458-a181-7c69c711b759",
   "metadata": {},
   "outputs": [],
   "source": []
  },
  {
   "cell_type": "code",
   "execution_count": null,
   "id": "6a23beac-6a2e-4293-993a-a0852c39669f",
   "metadata": {},
   "outputs": [],
   "source": []
  },
  {
   "cell_type": "code",
   "execution_count": null,
   "id": "54ee3c5b-8110-4b0a-98df-be2ceb043c27",
   "metadata": {},
   "outputs": [],
   "source": []
  },
  {
   "cell_type": "code",
   "execution_count": null,
   "id": "a697aab8-8a22-4041-bb4a-13a02035156c",
   "metadata": {},
   "outputs": [],
   "source": []
  }
 ],
 "metadata": {
  "kernelspec": {
   "display_name": "Python 3 (ipykernel)",
   "language": "python",
   "name": "python3"
  },
  "language_info": {
   "codemirror_mode": {
    "name": "ipython",
    "version": 3
   },
   "file_extension": ".py",
   "mimetype": "text/x-python",
   "name": "python",
   "nbconvert_exporter": "python",
   "pygments_lexer": "ipython3",
   "version": "3.11.9"
  }
 },
 "nbformat": 4,
 "nbformat_minor": 5
}
