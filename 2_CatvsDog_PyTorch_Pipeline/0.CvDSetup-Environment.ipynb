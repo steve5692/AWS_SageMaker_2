{
 "cells": [
  {
   "cell_type": "code",
   "execution_count": 1,
   "id": "f9f1d1d3-33ed-4a90-a51d-acf3db30a84e",
   "metadata": {},
   "outputs": [
    {
     "name": "stdout",
     "output_type": "stream",
     "text": [
      "sagemaker.config INFO - Not applying SDK defaults from location: /etc/xdg/sagemaker/config.yaml\n",
      "sagemaker.config INFO - Not applying SDK defaults from location: /home/sagemaker-user/.config/sagemaker/config.yaml\n",
      "\n",
      "boto3 version:  1.34.131\n",
      "sagemaker version:  2.227.0\n",
      "scikit-learn version:  1.4.2\n",
      "pandas version:  2.2.2\n",
      "numpy version:  1.26.4\n"
     ]
    }
   ],
   "source": [
    "import sagemaker\n",
    "import numpy as np\n",
    "import pandas as pd\n",
    "import boto3\n",
    "import sklearn\n",
    "\n",
    "print('\\nboto3 version: ', boto3.__version__)\n",
    "print('sagemaker version: ', sagemaker.__version__)\n",
    "print('scikit-learn version: ', sklearn.__version__)\n",
    "print('pandas version: ', pd.__version__)\n",
    "print('numpy version: ', np.__version__)"
   ]
  }
 ],
 "metadata": {
  "kernelspec": {
   "display_name": "Python 3 (ipykernel)",
   "language": "python",
   "name": "python3"
  },
  "language_info": {
   "codemirror_mode": {
    "name": "ipython",
    "version": 3
   },
   "file_extension": ".py",
   "mimetype": "text/x-python",
   "name": "python",
   "nbconvert_exporter": "python",
   "pygments_lexer": "ipython3",
   "version": "3.11.9"
  }
 },
 "nbformat": 4,
 "nbformat_minor": 5
}
