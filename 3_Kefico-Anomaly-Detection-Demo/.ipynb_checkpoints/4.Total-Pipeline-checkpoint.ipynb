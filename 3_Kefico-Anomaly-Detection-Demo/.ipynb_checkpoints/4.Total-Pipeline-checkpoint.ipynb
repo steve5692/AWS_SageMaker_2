{
 "cells": [
  {
   "cell_type": "code",
   "execution_count": 132,
   "id": "0b73ea95-b70d-4c4f-8de9-9b6fb4690294",
   "metadata": {},
   "outputs": [
    {
     "name": "stdout",
     "output_type": "stream",
     "text": [
      "now using bucket:  sagemaker-ap-northeast-2-242201274000\n",
      "Stored 'bucket' (str)\n"
     ]
    }
   ],
   "source": [
    "import sagemaker\n",
    "import boto3\n",
    "import os\n",
    "import pandas as pd\n",
    "from IPython.display import display as dp\n",
    "\n",
    "project_prefix = \"Kefico-Anomaly-Detection\"\n",
    "\n",
    "DEFAULT_BUCKET = True\n",
    "if DEFAULT_BUCKET:\n",
    "    sagemaker_session = sagemaker.session.Session()\n",
    "    bucket = sagemaker_session.default_bucket()\n",
    "else:\n",
    "    bucket = \"<사용자 버켓 이름>\"\n",
    "    \n",
    "print(\"now using bucket: \", bucket)\n",
    "%store bucket"
   ]
  },
  {
   "cell_type": "code",
   "execution_count": 133,
   "id": "8351e8af-2ef7-4473-9e7c-a42f49070ae8",
   "metadata": {},
   "outputs": [
    {
     "name": "stdout",
     "output_type": "stream",
     "text": [
      "SG Role:  arn:aws:iam::242201274000:role/service-role/AmazonSageMaker-ExecutionRole-20240923T230631\n"
     ]
    }
   ],
   "source": [
    "region = boto3.Session().region_name\n",
    "sagemaker_session = sagemaker.session.Session()\n",
    "role = sagemaker.get_execution_role()\n",
    "print('SG Role: ', role)"
   ]
  },
  {
   "cell_type": "code",
   "execution_count": 134,
   "id": "8411835c-f93d-4ba7-b21d-bd6dc3cd7061",
   "metadata": {},
   "outputs": [],
   "source": [
    "controller_name = \"V2LC\"\n",
    "main_test_name = \"HEV_P2_ACOverLoad_IG1_1\"\n",
    "sub_test_name = \"Severe1_Above2.83s_1\""
   ]
  },
  {
   "cell_type": "code",
   "execution_count": 135,
   "id": "cad28f4b-1e00-478c-b8bd-7c0204a094e0",
   "metadata": {},
   "outputs": [],
   "source": [
    "# Pipeline Parameter 정의\n",
    "from sagemaker.workflow.parameters import ParameterInteger, ParameterString\n",
    "\n",
    "input_data_uri = f's3://kefico-source/main_parquet_dir/{controller_name}/{main_test_name}/{sub_test_name}/'\n",
    "\n",
    "input_data = ParameterString(\n",
    "    name=\"InputData\",\n",
    "    default_value=input_data_uri\n",
    ")\n",
    "\n",
    "processing_instance_count = ParameterInteger(\n",
    "    name='ProcessingInstanceCount',\n",
    "    default_value=1\n",
    ")\n",
    "\n",
    "processing_instance_type = ParameterString(\n",
    "    name=\"ProcessingInstanceType\",\n",
    "    default_value=\"ml.m4.10xlarge\"\n",
    ")\n",
    "\n",
    "training_instance_type = ParameterString(\n",
    "    name='TrainingInstanceType',\n",
    "    default_value='ml.m4.4xlarge'\n",
    ")\n",
    "\n",
    "training_instance_count = ParameterInteger(\n",
    "    name='TrainingInstanceCount',\n",
    "    default_value=1\n",
    ")"
   ]
  },
  {
   "cell_type": "code",
   "execution_count": 136,
   "id": "b5e1156f-016f-4462-8f36-57eeb4739965",
   "metadata": {},
   "outputs": [
    {
     "name": "stderr",
     "output_type": "stream",
     "text": [
      "WARNING:sagemaker.workflow.utilities:The input argument instance_type of function (sagemaker.image_uris.retrieve) is a pipeline variable (<class 'sagemaker.workflow.parameters.ParameterString'>), which is interpreted in pipeline execution time only. As the function needs to evaluate the argument value in SDK compile time, the default_value of this Parameter object will be used to override it. Please make sure the default_value is valid.\n",
      "INFO:sagemaker.image_uris:Defaulting to only available Python version: py3\n"
     ]
    }
   ],
   "source": [
    "from sagemaker.sklearn.processing import SKLearnProcessor\n",
    "\n",
    "framework_version = '1.0-1'\n",
    "\n",
    "sklearn_processor = SKLearnProcessor(\n",
    "    framework_version=framework_version,\n",
    "    instance_type=processing_instance_type,\n",
    "    instance_count=processing_instance_count,\n",
    "    base_job_name='sklearn-AD-Demo-process',\n",
    "    role=role\n",
    ")"
   ]
  },
  {
   "cell_type": "code",
   "execution_count": 137,
   "id": "fe563fd6-421a-4ad2-8e8c-3d66d73e0730",
   "metadata": {},
   "outputs": [],
   "source": [
    "from sagemaker.processing import ProcessingInput, ProcessingOutput\n",
    "from sagemaker.workflow.steps import ProcessingStep\n",
    "\n",
    "step_process = ProcessingStep(\n",
    "    name='Kefico-AD-Preprocess',\n",
    "    processor=sklearn_processor,\n",
    "    inputs = [ProcessingInput(source=input_data_uri, destination='/opt/ml/processing/input/raw')],\n",
    "    outputs = [ProcessingOutput(output_name='train', source='/opt/ml/processing/output')],\n",
    "    code = 'src/ad_parquet_preprocessing.py'\n",
    ")"
   ]
  },
  {
   "cell_type": "code",
   "execution_count": 138,
   "id": "c19adcec-fb7f-4734-b786-ca65db604b66",
   "metadata": {},
   "outputs": [],
   "source": [
    "max_run = 1*60*60\n",
    "\n",
    "use_spot_instances = False\n",
    "if use_spot_instances:\n",
    "    max_wait = 1*60*60\n",
    "else:\n",
    "    max_wait = None\n",
    "\n",
    "instance_type ='sagemaker'\n",
    "if instance_type in ['local', 'local_gpu']:\n",
    "    from sagemaker.local import LocalSession\n",
    "    sagemaker_session = LocalSession()\n",
    "    sagemaker_session.config = {'local': {'local_code': True}}\n",
    "else:\n",
    "    sagemaker_session = sagemaker.session.Session()"
   ]
  },
  {
   "cell_type": "code",
   "execution_count": 139,
   "id": "21d48b3c-d4b5-40a8-a92b-14ae4f08928f",
   "metadata": {},
   "outputs": [],
   "source": [
    "from sagemaker.pytorch import PyTorch\n",
    "\n",
    "estimator_output_path = f\"s3://{bucket}/{project_prefix}/training_jobs\"\n",
    "\n",
    "estimator = PyTorch(\n",
    "    # framework_version='2.2.0',\n",
    "    # py_version='py310',\n",
    "    image_uri=\"763104351884.dkr.ecr.ap-northeast-2.amazonaws.com/pytorch-training:2.4.0-cpu-py311-ubuntu22.04-sagemaker\",\n",
    "    entry_point='ad_train_and_evaluate.py',\n",
    "    source_dir='src',\n",
    "    output_path=estimator_output_path,\n",
    "    code_location=estimator_output_path,\n",
    "    role=role,\n",
    "    sagemaker_session=sagemaker_session,\n",
    "    instance_count=training_instance_count,\n",
    "    instance_type=training_instance_type,\n",
    "    hyperparameters={\n",
    "        'num_epochs': 2,\n",
    "        'batch_size': 1024\n",
    "    },\n",
    "    max_run=max_run,\n",
    "    use_spot_instances=use_spot_instances,\n",
    "    max_wait=max_wait\n",
    ")"
   ]
  },
  {
   "cell_type": "code",
   "execution_count": 140,
   "id": "f6636c83-d1dc-49f6-814e-c424f3fb394f",
   "metadata": {},
   "outputs": [],
   "source": [
    "from sagemaker.inputs import TrainingInput\n",
    "from sagemaker.workflow.steps import TrainingStep\n",
    "\n",
    "step_train = TrainingStep(\n",
    "    name=\"Kefico-AD-Train-And-Evaluate\",\n",
    "    estimator=estimator,\n",
    "    inputs={\n",
    "        \"train\": TrainingInput(\n",
    "            s3_data=step_process.properties.ProcessingOutputConfig.Outputs[\n",
    "                \"train\"\n",
    "            ].S3Output.S3Uri,\n",
    "        ),\n",
    "    },\n",
    ")"
   ]
  },
  {
   "cell_type": "code",
   "execution_count": null,
   "id": "3db76e99-7d31-4068-8b77-9e81431d4c4e",
   "metadata": {},
   "outputs": [],
   "source": []
  },
  {
   "cell_type": "code",
   "execution_count": null,
   "id": "3422949b-0974-41ba-bed3-e55b41e88d73",
   "metadata": {},
   "outputs": [],
   "source": []
  },
  {
   "cell_type": "code",
   "execution_count": 141,
   "id": "dffe0a5c-379a-42ed-881e-b5c222064c9c",
   "metadata": {},
   "outputs": [],
   "source": [
    "from sagemaker.workflow.pipeline import Pipeline\n",
    "\n",
    "pipeline_name = project_prefix\n",
    "pipeline = Pipeline(\n",
    "    name=pipeline_name,\n",
    "    parameters=[\n",
    "        processing_instance_type,\n",
    "        processing_instance_count,\n",
    "        input_data,\n",
    "        training_instance_count,\n",
    "        training_instance_type\n",
    "    ],\n",
    "    steps=[step_process, step_train]\n",
    ")"
   ]
  },
  {
   "cell_type": "code",
   "execution_count": 142,
   "id": "f4533875-97b2-4064-b244-874416794231",
   "metadata": {},
   "outputs": [
    {
     "name": "stderr",
     "output_type": "stream",
     "text": [
      "WARNING:sagemaker.workflow.utilities:Popping out 'ProcessingJobName' from the pipeline definition by default since it will be overridden at pipeline execution time. Please utilize the PipelineDefinitionConfig to persist this field in the pipeline definition if desired.\n",
      "WARNING:sagemaker.workflow.utilities:The input argument instance_type of function (sagemaker.image_uris.get_training_image_uri) is a pipeline variable (<class 'sagemaker.workflow.parameters.ParameterString'>), which is interpreted in pipeline execution time only. As the function needs to evaluate the argument value in SDK compile time, the default_value of this Parameter object will be used to override it. Please make sure the default_value is valid.\n",
      "WARNING:sagemaker.workflow.utilities:Popping out 'TrainingJobName' from the pipeline definition by default since it will be overridden at pipeline execution time. Please utilize the PipelineDefinitionConfig to persist this field in the pipeline definition if desired.\n"
     ]
    },
    {
     "data": {
      "text/plain": [
       "{'Version': '2020-12-01',\n",
       " 'Metadata': {},\n",
       " 'Parameters': [{'Name': 'ProcessingInstanceType',\n",
       "   'Type': 'String',\n",
       "   'DefaultValue': 'ml.m4.10xlarge'},\n",
       "  {'Name': 'ProcessingInstanceCount', 'Type': 'Integer', 'DefaultValue': 4},\n",
       "  {'Name': 'InputData',\n",
       "   'Type': 'String',\n",
       "   'DefaultValue': 's3://kefico-source/main_parquet_dir/V2LC/HEV_P2_ACOverLoad_IG1_1/Severe1_Above2.83s_1/'},\n",
       "  {'Name': 'TrainingInstanceCount', 'Type': 'Integer', 'DefaultValue': 4},\n",
       "  {'Name': 'TrainingInstanceType',\n",
       "   'Type': 'String',\n",
       "   'DefaultValue': 'ml.m4.4xlarge'}],\n",
       " 'PipelineExperimentConfig': {'ExperimentName': {'Get': 'Execution.PipelineName'},\n",
       "  'TrialName': {'Get': 'Execution.PipelineExecutionId'}},\n",
       " 'Steps': [{'Name': 'Kefico-AD-Preprocess',\n",
       "   'Type': 'Processing',\n",
       "   'Arguments': {'ProcessingResources': {'ClusterConfig': {'InstanceType': {'Get': 'Parameters.ProcessingInstanceType'},\n",
       "      'InstanceCount': {'Get': 'Parameters.ProcessingInstanceCount'},\n",
       "      'VolumeSizeInGB': 30}},\n",
       "    'AppSpecification': {'ImageUri': '366743142698.dkr.ecr.ap-northeast-2.amazonaws.com/sagemaker-scikit-learn:1.0-1-cpu-py3',\n",
       "     'ContainerEntrypoint': ['python3',\n",
       "      '/opt/ml/processing/input/code/ad_parquet_preprocessing.py']},\n",
       "    'RoleArn': 'arn:aws:iam::242201274000:role/service-role/AmazonSageMaker-ExecutionRole-20240923T230631',\n",
       "    'ProcessingInputs': [{'InputName': 'input-1',\n",
       "      'AppManaged': False,\n",
       "      'S3Input': {'S3Uri': 's3://kefico-source/main_parquet_dir/V2LC/HEV_P2_ACOverLoad_IG1_1/Severe1_Above2.83s_1/',\n",
       "       'LocalPath': '/opt/ml/processing/input/raw',\n",
       "       'S3DataType': 'S3Prefix',\n",
       "       'S3InputMode': 'File',\n",
       "       'S3DataDistributionType': 'FullyReplicated',\n",
       "       'S3CompressionType': 'None'}},\n",
       "     {'InputName': 'code',\n",
       "      'AppManaged': False,\n",
       "      'S3Input': {'S3Uri': 's3://sagemaker-ap-northeast-2-242201274000/Kefico-AD-Preprocess-85db8e3082db4fb1f8fd599543289236/input/code/ad_parquet_preprocessing.py',\n",
       "       'LocalPath': '/opt/ml/processing/input/code',\n",
       "       'S3DataType': 'S3Prefix',\n",
       "       'S3InputMode': 'File',\n",
       "       'S3DataDistributionType': 'FullyReplicated',\n",
       "       'S3CompressionType': 'None'}}],\n",
       "    'ProcessingOutputConfig': {'Outputs': [{'OutputName': 'train',\n",
       "       'AppManaged': False,\n",
       "       'S3Output': {'S3Uri': {'Std:Join': {'On': '/',\n",
       "          'Values': ['s3:/',\n",
       "           'sagemaker-ap-northeast-2-242201274000',\n",
       "           'Kefico-Anomaly-Detection',\n",
       "           {'Get': 'Execution.PipelineExecutionId'},\n",
       "           'Kefico-AD-Preprocess',\n",
       "           'output',\n",
       "           'train']}},\n",
       "        'LocalPath': '/opt/ml/processing/output',\n",
       "        'S3UploadMode': 'EndOfJob'}}]}}},\n",
       "  {'Name': 'Kefico-AD-Train-And-Evaluate',\n",
       "   'Type': 'Training',\n",
       "   'Arguments': {'AlgorithmSpecification': {'TrainingInputMode': 'File',\n",
       "     'TrainingImage': '763104351884.dkr.ecr.ap-northeast-2.amazonaws.com/pytorch-training:2.4.0-cpu-py311-ubuntu22.04-sagemaker'},\n",
       "    'OutputDataConfig': {'S3OutputPath': 's3://sagemaker-ap-northeast-2-242201274000/Kefico-Anomaly-Detection/training_jobs'},\n",
       "    'StoppingCondition': {'MaxRuntimeInSeconds': 3600},\n",
       "    'ResourceConfig': {'VolumeSizeInGB': 30,\n",
       "     'InstanceCount': {'Get': 'Parameters.TrainingInstanceCount'},\n",
       "     'InstanceType': {'Get': 'Parameters.TrainingInstanceType'}},\n",
       "    'RoleArn': 'arn:aws:iam::242201274000:role/service-role/AmazonSageMaker-ExecutionRole-20240923T230631',\n",
       "    'InputDataConfig': [{'DataSource': {'S3DataSource': {'S3DataType': 'S3Prefix',\n",
       "        'S3Uri': {'Get': \"Steps.Kefico-AD-Preprocess.ProcessingOutputConfig.Outputs['train'].S3Output.S3Uri\"},\n",
       "        'S3DataDistributionType': 'FullyReplicated'}},\n",
       "      'ChannelName': 'train'}],\n",
       "    'HyperParameters': {'num_epochs': '2',\n",
       "     'batch_size': '1024',\n",
       "     'sagemaker_submit_directory': '\"s3://sagemaker-ap-northeast-2-242201274000/Kefico-Anomaly-Detection/training_jobs/Kefico-AD-Train-And-Evaluate-7b61984408d4b9f4cd0b3d2bb8fa8897/source/sourcedir.tar.gz\"',\n",
       "     'sagemaker_program': '\"ad_train_and_evaluate.py\"',\n",
       "     'sagemaker_container_log_level': '20',\n",
       "     'sagemaker_region': '\"ap-northeast-2\"'},\n",
       "    'DebugHookConfig': {'S3OutputPath': 's3://sagemaker-ap-northeast-2-242201274000/Kefico-Anomaly-Detection/training_jobs',\n",
       "     'CollectionConfigurations': []},\n",
       "    'ProfilerConfig': {'S3OutputPath': 's3://sagemaker-ap-northeast-2-242201274000/Kefico-Anomaly-Detection/training_jobs',\n",
       "     'DisableProfiler': False}}}]}"
      ]
     },
     "execution_count": 142,
     "metadata": {},
     "output_type": "execute_result"
    }
   ],
   "source": [
    "import json\n",
    "\n",
    "definition = json.loads(pipeline.definition())\n",
    "definition"
   ]
  },
  {
   "cell_type": "code",
   "execution_count": 143,
   "id": "51142347-50b2-4a23-a2a4-9f4e0f6441e7",
   "metadata": {},
   "outputs": [
    {
     "name": "stderr",
     "output_type": "stream",
     "text": [
      "WARNING:sagemaker.workflow.utilities:Popping out 'ProcessingJobName' from the pipeline definition by default since it will be overridden at pipeline execution time. Please utilize the PipelineDefinitionConfig to persist this field in the pipeline definition if desired.\n",
      "WARNING:sagemaker.workflow.utilities:The input argument instance_type of function (sagemaker.image_uris.get_training_image_uri) is a pipeline variable (<class 'sagemaker.workflow.parameters.ParameterString'>), which is interpreted in pipeline execution time only. As the function needs to evaluate the argument value in SDK compile time, the default_value of this Parameter object will be used to override it. Please make sure the default_value is valid.\n",
      "WARNING:sagemaker.workflow.utilities:Popping out 'TrainingJobName' from the pipeline definition by default since it will be overridden at pipeline execution time. Please utilize the PipelineDefinitionConfig to persist this field in the pipeline definition if desired.\n",
      "WARNING:sagemaker.workflow.utilities:Popping out 'ProcessingJobName' from the pipeline definition by default since it will be overridden at pipeline execution time. Please utilize the PipelineDefinitionConfig to persist this field in the pipeline definition if desired.\n",
      "WARNING:sagemaker.workflow.utilities:The input argument instance_type of function (sagemaker.image_uris.get_training_image_uri) is a pipeline variable (<class 'sagemaker.workflow.parameters.ParameterString'>), which is interpreted in pipeline execution time only. As the function needs to evaluate the argument value in SDK compile time, the default_value of this Parameter object will be used to override it. Please make sure the default_value is valid.\n",
      "WARNING:sagemaker.workflow.utilities:Popping out 'TrainingJobName' from the pipeline definition by default since it will be overridden at pipeline execution time. Please utilize the PipelineDefinitionConfig to persist this field in the pipeline definition if desired.\n"
     ]
    },
    {
     "data": {
      "text/plain": [
       "{'PipelineArn': 'arn:aws:sagemaker:ap-northeast-2:242201274000:pipeline/Kefico-Anomaly-Detection',\n",
       " 'ResponseMetadata': {'RequestId': '08d025f2-5529-4dcc-a36c-e42b5e326119',\n",
       "  'HTTPStatusCode': 200,\n",
       "  'HTTPHeaders': {'x-amzn-requestid': '08d025f2-5529-4dcc-a36c-e42b5e326119',\n",
       "   'content-type': 'application/x-amz-json-1.1',\n",
       "   'content-length': '97',\n",
       "   'date': 'Fri, 15 Nov 2024 03:29:59 GMT'},\n",
       "  'RetryAttempts': 0}}"
      ]
     },
     "execution_count": 143,
     "metadata": {},
     "output_type": "execute_result"
    }
   ],
   "source": [
    "# Pipeline 등록, 실행\n",
    "pipeline.upsert(role_arn=role)\n",
    "# execution = pipeline.start()"
   ]
  },
  {
   "cell_type": "code",
   "execution_count": 144,
   "id": "fad5b169-6c02-47c3-b397-83187350e71b",
   "metadata": {},
   "outputs": [
    {
     "data": {
      "text/plain": [
       "{'PipelineArn': 'arn:aws:sagemaker:ap-northeast-2:242201274000:pipeline/Kefico-Anomaly-Detection',\n",
       " 'PipelineExecutionArn': 'arn:aws:sagemaker:ap-northeast-2:242201274000:pipeline/Kefico-Anomaly-Detection/execution/nak4boj3uqbo',\n",
       " 'PipelineExecutionDisplayName': 'execution-1731639376305',\n",
       " 'PipelineExecutionStatus': 'Succeeded',\n",
       " 'PipelineExperimentConfig': {'ExperimentName': 'kefico-anomaly-detection',\n",
       "  'TrialName': 'nak4boj3uqbo'},\n",
       " 'CreationTime': datetime.datetime(2024, 11, 15, 2, 56, 16, 250000, tzinfo=tzlocal()),\n",
       " 'LastModifiedTime': datetime.datetime(2024, 11, 15, 3, 12, 17, 150000, tzinfo=tzlocal()),\n",
       " 'CreatedBy': {'UserProfileArn': 'arn:aws:sagemaker:ap-northeast-2:242201274000:user-profile/d-l0dltcg6j4kj/default-20240923T230629',\n",
       "  'UserProfileName': 'default-20240923T230629',\n",
       "  'DomainId': 'd-l0dltcg6j4kj',\n",
       "  'IamIdentity': {'Arn': 'arn:aws:sts::242201274000:assumed-role/AmazonSageMaker-ExecutionRole-20240923T230631/SageMaker',\n",
       "   'PrincipalId': 'AROATQZCSE2IHHIBWPD6G:SageMaker'}},\n",
       " 'LastModifiedBy': {'UserProfileArn': 'arn:aws:sagemaker:ap-northeast-2:242201274000:user-profile/d-l0dltcg6j4kj/default-20240923T230629',\n",
       "  'UserProfileName': 'default-20240923T230629',\n",
       "  'DomainId': 'd-l0dltcg6j4kj',\n",
       "  'IamIdentity': {'Arn': 'arn:aws:sts::242201274000:assumed-role/AmazonSageMaker-ExecutionRole-20240923T230631/SageMaker',\n",
       "   'PrincipalId': 'AROATQZCSE2IHHIBWPD6G:SageMaker'}},\n",
       " 'ResponseMetadata': {'RequestId': 'c6c5067e-e146-44d6-b9b9-0481c732a18b',\n",
       "  'HTTPStatusCode': 200,\n",
       "  'HTTPHeaders': {'x-amzn-requestid': 'c6c5067e-e146-44d6-b9b9-0481c732a18b',\n",
       "   'content-type': 'application/x-amz-json-1.1',\n",
       "   'content-length': '1231',\n",
       "   'date': 'Fri, 15 Nov 2024 03:30:00 GMT'},\n",
       "  'RetryAttempts': 0}}"
      ]
     },
     "execution_count": 144,
     "metadata": {},
     "output_type": "execute_result"
    }
   ],
   "source": [
    "execution.describe()"
   ]
  },
  {
   "cell_type": "code",
   "execution_count": 145,
   "id": "27946e17-be84-42be-a200-fd730e91e823",
   "metadata": {},
   "outputs": [],
   "source": [
    "execution.wait()"
   ]
  },
  {
   "cell_type": "code",
   "execution_count": 146,
   "id": "9adcf4f3-129a-4cc2-abfc-86af66b0cfe8",
   "metadata": {},
   "outputs": [
    {
     "data": {
      "text/plain": [
       "[{'StepName': 'Kefico-AD-Train-And-Evaluate',\n",
       "  'StartTime': datetime.datetime(2024, 11, 15, 3, 3, 54, 825000, tzinfo=tzlocal()),\n",
       "  'EndTime': datetime.datetime(2024, 11, 15, 3, 12, 16, 954000, tzinfo=tzlocal()),\n",
       "  'StepStatus': 'Succeeded',\n",
       "  'Metadata': {'TrainingJob': {'Arn': 'arn:aws:sagemaker:ap-northeast-2:242201274000:training-job/pipelines-nak4boj3uqbo-Kefico-AD-Train-And--DXVPaOUvlF'}},\n",
       "  'AttemptCount': 1},\n",
       " {'StepName': 'Kefico-AD-Preprocess',\n",
       "  'StartTime': datetime.datetime(2024, 11, 15, 2, 56, 17, 609000, tzinfo=tzlocal()),\n",
       "  'EndTime': datetime.datetime(2024, 11, 15, 3, 3, 54, 382000, tzinfo=tzlocal()),\n",
       "  'StepStatus': 'Succeeded',\n",
       "  'Metadata': {'ProcessingJob': {'Arn': 'arn:aws:sagemaker:ap-northeast-2:242201274000:processing-job/pipelines-nak4boj3uqbo-Kefico-AD-Preprocess-9Q51yX4ExW'}},\n",
       "  'AttemptCount': 1}]"
      ]
     },
     "execution_count": 146,
     "metadata": {},
     "output_type": "execute_result"
    }
   ],
   "source": [
    "execution.list_steps()"
   ]
  },
  {
   "cell_type": "code",
   "execution_count": 147,
   "id": "65f7a7e9-2a7c-496c-af49-06c10909a053",
   "metadata": {},
   "outputs": [
    {
     "name": "stdout",
     "output_type": "stream",
     "text": [
      "[{'OutputName': 'train', 'S3Output': {'S3Uri': 's3://sagemaker-ap-northeast-2-242201274000/Kefico-Anomaly-Detection/nak4boj3uqbo/Kefico-AD-Preprocess/output/train', 'LocalPath': '/opt/ml/processing/output', 'S3UploadMode': 'EndOfJob'}, 'AppManaged': False}]\n",
      "output-train:  s3://sagemaker-ap-northeast-2-242201274000/Kefico-Anomaly-Detection/nak4boj3uqbo/Kefico-AD-Preprocess/output/train\n"
     ]
    }
   ],
   "source": [
    "import boto3\n",
    "\n",
    "def get_proc_artifact(execution, client, kind):\n",
    "    \n",
    "    '''\n",
    "    preprocess 후 전처리 결과물의 S3경로를 획득\n",
    "    kind = 0 --> train\n",
    "    kind = 1 --> test\n",
    "    '''\n",
    "    response = execution.list_steps()\n",
    "\n",
    "    proc_arn = response[-1]['Metadata']['ProcessingJob']['Arn']\n",
    "    # print(proc_arn)\n",
    "    \n",
    "    proc_job_name = proc_arn.split('/')[-1]\n",
    "    # print(proc_job_name)\n",
    "\n",
    "    response = client.describe_processing_job(ProcessingJobName = proc_job_name)\n",
    "    print(response['ProcessingOutputConfig']['Outputs'])\n",
    "    test_preprocessed_file = response['ProcessingOutputConfig']['Outputs'][kind]['S3Output']['S3Uri']\n",
    "    return test_preprocessed_file\n",
    "\n",
    "\n",
    "client = boto3.client(\"sagemaker\")\n",
    "\n",
    "train_preproc_dir_artifact = get_proc_artifact(execution, client, kind=0)\n",
    "# test_preproc_dir_artifact = get_proc_artifact(execution, client, kind=1)\n",
    "\n",
    "print('output-train: ', train_preproc_dir_artifact)\n",
    "# print('output-test : ', test_preproc_dir_artifact)"
   ]
  },
  {
   "cell_type": "code",
   "execution_count": null,
   "id": "dc179044-2dec-4467-a1a5-10c8f026670c",
   "metadata": {},
   "outputs": [],
   "source": []
  },
  {
   "cell_type": "code",
   "execution_count": null,
   "id": "b37cbabd-723b-4eaa-8550-96621fdbee68",
   "metadata": {},
   "outputs": [],
   "source": []
  },
  {
   "cell_type": "code",
   "execution_count": null,
   "id": "b4826c46-cbc0-41cb-9998-a066a8e97aa0",
   "metadata": {},
   "outputs": [],
   "source": []
  },
  {
   "cell_type": "code",
   "execution_count": null,
   "id": "e3615ef1-d019-4327-b042-cd5bdf25da2e",
   "metadata": {},
   "outputs": [],
   "source": []
  },
  {
   "cell_type": "code",
   "execution_count": null,
   "id": "9b4a35e3-16ba-4730-bbd6-0d56028b163d",
   "metadata": {},
   "outputs": [],
   "source": []
  },
  {
   "cell_type": "code",
   "execution_count": null,
   "id": "47aab390-46f9-4543-8536-5c387f85fdf5",
   "metadata": {},
   "outputs": [],
   "source": []
  }
 ],
 "metadata": {
  "kernelspec": {
   "display_name": "Python 3 (ipykernel)",
   "language": "python",
   "name": "python3"
  },
  "language_info": {
   "codemirror_mode": {
    "name": "ipython",
    "version": 3
   },
   "file_extension": ".py",
   "mimetype": "text/x-python",
   "name": "python",
   "nbconvert_exporter": "python",
   "pygments_lexer": "ipython3",
   "version": "3.11.9"
  }
 },
 "nbformat": 4,
 "nbformat_minor": 5
}
