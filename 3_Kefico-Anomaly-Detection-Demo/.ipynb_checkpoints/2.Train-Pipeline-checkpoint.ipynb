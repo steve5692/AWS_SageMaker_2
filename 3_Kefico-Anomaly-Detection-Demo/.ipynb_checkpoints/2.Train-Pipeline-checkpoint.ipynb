{
 "cells": [
  {
   "cell_type": "code",
   "execution_count": 45,
   "id": "e5e67ef6-d66d-461c-8b19-14b17c48f83c",
   "metadata": {},
   "outputs": [
    {
     "name": "stdout",
     "output_type": "stream",
     "text": [
      "Stored 'project_prefix' (str)\n",
      "Stored variables and their in-db values:\n",
      "bucket                                 -> 'sagemaker-ap-northeast-2-242201274000'\n",
      "cat_data_uri                           -> 's3://sagemaker-ap-northeast-2-242201274000/sagema\n",
      "controller_name                        -> 'V2LC'\n",
      "dog_data_uri                           -> 's3://sagemaker-ap-northeast-2-242201274000/sagema\n",
      "input_data_uri                         -> 's3://sagemaker-ap-northeast-2-242201274000/sagema\n",
      "local_cat_dir                          -> '../data/cvd_data/cat'\n",
      "local_dog_dir                          -> '../data/cvd_data/dog'\n",
      "main_test_name                         -> 'HEV_P2_ACOverLoad_IG1_1'\n",
      "preprocessing_code                     -> 'src/ad_parquet_preprocessing.py'\n",
      "project_prefix                         -> 'Kefico-Anomaly-Detection'\n",
      "sub_test_name                          -> 'Severe1_Above2.83s_1'\n",
      "test_preproc_dir_artifact              -> 's3://sagemaker-ap-northeast-2-242201274000/sagema\n",
      "train_preproc_dir_artifact             -> 's3://sagemaker-ap-northeast-2-242201274000/Kefico\n"
     ]
    }
   ],
   "source": [
    "# 1. 라이브러리 로딩 & 변수 불러오기\n",
    "import boto3\n",
    "import sagemaker\n",
    "import os\n",
    "\n",
    "sagemaker_session = sagemaker.session.Session()\n",
    "role = sagemaker.get_execution_role()\n",
    "\n",
    "project_prefix = \"Kefico-Anomaly-Detection\"\n",
    "%store project_prefix\n",
    "    \n",
    "%store -r\n",
    "%store"
   ]
  },
  {
   "cell_type": "code",
   "execution_count": 46,
   "id": "64584a44-b2b7-4026-afd3-765b77e21004",
   "metadata": {},
   "outputs": [],
   "source": [
    "train_code = 'src/ad_train_and_evaluate.py'"
   ]
  },
  {
   "cell_type": "code",
   "execution_count": 47,
   "id": "e25139d5-4769-4ff9-8bfd-1dec7cc2b794",
   "metadata": {},
   "outputs": [],
   "source": [
    "# ! python {train_code} --learning_rate 1e-4\\\n",
    "#                       --num_epochs 2"
   ]
  },
  {
   "cell_type": "code",
   "execution_count": 48,
   "id": "57da11c4-84ef-41d6-aba5-58906f95c077",
   "metadata": {},
   "outputs": [],
   "source": [
    "# 파이프라인 파라미터 생성\n",
    "from sagemaker.workflow.parameters import (\n",
    "    ParameterInteger,\n",
    "    ParameterString)\n",
    "\n",
    "training_instance_type = ParameterString(\n",
    "    name='TrainingInstanceType',\n",
    "    default_value='ml.m4.4xlarge'\n",
    ")\n",
    "\n",
    "training_instance_count = ParameterInteger(\n",
    "    name='TrainingInstanceCount',\n",
    "    default_value=1\n",
    ")"
   ]
  },
  {
   "cell_type": "code",
   "execution_count": 49,
   "id": "3d54eaab-df08-4440-b1b5-84e503d303a2",
   "metadata": {},
   "outputs": [],
   "source": [
    "max_run = 1*60*60\n",
    "\n",
    "use_spot_instances = False\n",
    "if use_spot_instances:\n",
    "    max_wait = 1*60*60\n",
    "else:\n",
    "    max_wait = None\n",
    "\n",
    "instance_type ='sagemaker'\n",
    "if instance_type in ['local', 'local_gpu']:\n",
    "    from sagemaker.local import LocalSession\n",
    "    sagemaker_session = LocalSession()\n",
    "    sagemaker_session.config = {'local': {'local_code': True}}\n",
    "else:\n",
    "    sagemaker_session = sagemaker.session.Session()"
   ]
  },
  {
   "cell_type": "code",
   "execution_count": 50,
   "id": "78e747ee-0cb7-43a4-979f-363d15867ab0",
   "metadata": {},
   "outputs": [],
   "source": [
    "from sagemaker.pytorch import PyTorch\n",
    "\n",
    "estimator_output_path = f\"s3://{bucket}/{project_prefix}/training_jobs\"\n",
    "\n",
    "estimator = PyTorch(\n",
    "    # framework_version='2.2.0',\n",
    "    # py_version='py310',\n",
    "    image_uri=\"763104351884.dkr.ecr.ap-northeast-2.amazonaws.com/pytorch-training:2.4.0-cpu-py311-ubuntu22.04-sagemaker\",\n",
    "    entry_point='ad_training.py',\n",
    "    source_dir='src',\n",
    "    output_path=estimator_output_path,\n",
    "    code_location=estimator_output_path,\n",
    "    role=role,\n",
    "    sagemaker_session=sagemaker_session,\n",
    "    instance_count=training_instance_count,\n",
    "    instance_type=training_instance_type,\n",
    "    hyperparameters={\n",
    "        'num_epochs': 2,\n",
    "        'batch_size': 1024\n",
    "    },\n",
    "    max_run=max_run,\n",
    "    use_spot_instances=use_spot_instances,\n",
    "    max_wait=max_wait\n",
    ")"
   ]
  },
  {
   "cell_type": "code",
   "execution_count": 51,
   "id": "202701a4-8c88-4de8-a336-0bd88b785259",
   "metadata": {},
   "outputs": [],
   "source": [
    "from sagemaker.inputs import TrainingInput\n",
    "from sagemaker.workflow.steps import TrainingStep\n",
    "\n",
    "\n",
    "step_train = TrainingStep(\n",
    "    name=\"Kefico-AD-Basic-Train\",\n",
    "    estimator=estimator,\n",
    "    inputs={\n",
    "        \"train\": TrainingInput(\n",
    "            s3_data= train_preproc_dir_artifact\n",
    "        ),\n",
    "    },\n",
    ")"
   ]
  },
  {
   "cell_type": "code",
   "execution_count": 52,
   "id": "3569efde-8432-432b-9a7f-3ca30d21d427",
   "metadata": {},
   "outputs": [],
   "source": [
    "from sagemaker.workflow.pipeline import Pipeline\n",
    "\n",
    "pipeline_name = project_prefix\n",
    "pipeline = Pipeline(\n",
    "    name=pipeline_name,\n",
    "    parameters=[\n",
    "        training_instance_type,        \n",
    "        training_instance_count,         \n",
    "    ],\n",
    "    steps=[step_train],\n",
    ")"
   ]
  },
  {
   "cell_type": "code",
   "execution_count": 53,
   "id": "5c06b3d8-f114-4762-a994-e7100c4fbf8f",
   "metadata": {},
   "outputs": [
    {
     "name": "stderr",
     "output_type": "stream",
     "text": [
      "WARNING:sagemaker.workflow.utilities:The input argument instance_type of function (sagemaker.image_uris.get_training_image_uri) is a pipeline variable (<class 'sagemaker.workflow.parameters.ParameterString'>), which is interpreted in pipeline execution time only. As the function needs to evaluate the argument value in SDK compile time, the default_value of this Parameter object will be used to override it. Please make sure the default_value is valid.\n",
      "WARNING:sagemaker.workflow.utilities:Popping out 'TrainingJobName' from the pipeline definition by default since it will be overridden at pipeline execution time. Please utilize the PipelineDefinitionConfig to persist this field in the pipeline definition if desired.\n"
     ]
    },
    {
     "data": {
      "text/plain": [
       "{'Version': '2020-12-01',\n",
       " 'Metadata': {},\n",
       " 'Parameters': [{'Name': 'TrainingInstanceType',\n",
       "   'Type': 'String',\n",
       "   'DefaultValue': 'ml.m4.4xlarge'},\n",
       "  {'Name': 'TrainingInstanceCount', 'Type': 'Integer', 'DefaultValue': 1}],\n",
       " 'PipelineExperimentConfig': {'ExperimentName': {'Get': 'Execution.PipelineName'},\n",
       "  'TrialName': {'Get': 'Execution.PipelineExecutionId'}},\n",
       " 'Steps': [{'Name': 'Kefico-AD-Basic-Train',\n",
       "   'Type': 'Training',\n",
       "   'Arguments': {'AlgorithmSpecification': {'TrainingInputMode': 'File',\n",
       "     'TrainingImage': '763104351884.dkr.ecr.ap-northeast-2.amazonaws.com/pytorch-training:2.4.0-cpu-py311-ubuntu22.04-sagemaker'},\n",
       "    'OutputDataConfig': {'S3OutputPath': 's3://sagemaker-ap-northeast-2-242201274000/Kefico-Anomaly-Detection/training_jobs'},\n",
       "    'StoppingCondition': {'MaxRuntimeInSeconds': 3600},\n",
       "    'ResourceConfig': {'VolumeSizeInGB': 30,\n",
       "     'InstanceCount': {'Get': 'Parameters.TrainingInstanceCount'},\n",
       "     'InstanceType': {'Get': 'Parameters.TrainingInstanceType'}},\n",
       "    'RoleArn': 'arn:aws:iam::242201274000:role/service-role/AmazonSageMaker-ExecutionRole-20240923T230631',\n",
       "    'InputDataConfig': [{'DataSource': {'S3DataSource': {'S3DataType': 'S3Prefix',\n",
       "        'S3Uri': 's3://sagemaker-ap-northeast-2-242201274000/Kefico-Anomaly-Detection/85nzargh0c8j/AD-Demo-Basic-Process/output/train',\n",
       "        'S3DataDistributionType': 'FullyReplicated'}},\n",
       "      'ChannelName': 'train'}],\n",
       "    'HyperParameters': {'num_epochs': '2',\n",
       "     'batch_size': '1024',\n",
       "     'sagemaker_submit_directory': '\"s3://sagemaker-ap-northeast-2-242201274000/Kefico-Anomaly-Detection/training_jobs/Kefico-AD-Basic-Train-477bca8d592539ee876b2f681beacaad/source/sourcedir.tar.gz\"',\n",
       "     'sagemaker_program': '\"ad_training.py\"',\n",
       "     'sagemaker_container_log_level': '20',\n",
       "     'sagemaker_region': '\"ap-northeast-2\"'},\n",
       "    'DebugHookConfig': {'S3OutputPath': 's3://sagemaker-ap-northeast-2-242201274000/Kefico-Anomaly-Detection/training_jobs',\n",
       "     'CollectionConfigurations': []},\n",
       "    'ProfilerConfig': {'S3OutputPath': 's3://sagemaker-ap-northeast-2-242201274000/Kefico-Anomaly-Detection/training_jobs',\n",
       "     'DisableProfiler': False}}}]}"
      ]
     },
     "execution_count": 53,
     "metadata": {},
     "output_type": "execute_result"
    }
   ],
   "source": [
    "import json\n",
    "\n",
    "definition = json.loads(pipeline.definition())\n",
    "definition"
   ]
  },
  {
   "cell_type": "code",
   "execution_count": 54,
   "id": "0e1d9317-fca0-47f1-9e4f-ed133858ca57",
   "metadata": {},
   "outputs": [
    {
     "name": "stderr",
     "output_type": "stream",
     "text": [
      "WARNING:sagemaker.workflow.utilities:The input argument instance_type of function (sagemaker.image_uris.get_training_image_uri) is a pipeline variable (<class 'sagemaker.workflow.parameters.ParameterString'>), which is interpreted in pipeline execution time only. As the function needs to evaluate the argument value in SDK compile time, the default_value of this Parameter object will be used to override it. Please make sure the default_value is valid.\n",
      "WARNING:sagemaker.workflow.utilities:Popping out 'TrainingJobName' from the pipeline definition by default since it will be overridden at pipeline execution time. Please utilize the PipelineDefinitionConfig to persist this field in the pipeline definition if desired.\n",
      "WARNING:sagemaker.workflow.utilities:The input argument instance_type of function (sagemaker.image_uris.get_training_image_uri) is a pipeline variable (<class 'sagemaker.workflow.parameters.ParameterString'>), which is interpreted in pipeline execution time only. As the function needs to evaluate the argument value in SDK compile time, the default_value of this Parameter object will be used to override it. Please make sure the default_value is valid.\n",
      "WARNING:sagemaker.workflow.utilities:Popping out 'TrainingJobName' from the pipeline definition by default since it will be overridden at pipeline execution time. Please utilize the PipelineDefinitionConfig to persist this field in the pipeline definition if desired.\n"
     ]
    }
   ],
   "source": [
    "pipeline.upsert(role_arn=role)\n",
    "execution = pipeline.start()"
   ]
  },
  {
   "cell_type": "code",
   "execution_count": 55,
   "id": "6e473e87-eb6f-488b-8a90-ac8d6d2a874d",
   "metadata": {},
   "outputs": [
    {
     "data": {
      "text/plain": [
       "{'PipelineArn': 'arn:aws:sagemaker:ap-northeast-2:242201274000:pipeline/Kefico-Anomaly-Detection',\n",
       " 'PipelineExecutionArn': 'arn:aws:sagemaker:ap-northeast-2:242201274000:pipeline/Kefico-Anomaly-Detection/execution/7x8zsnx15dc6',\n",
       " 'PipelineExecutionDisplayName': 'execution-1731583018181',\n",
       " 'PipelineExecutionStatus': 'Executing',\n",
       " 'CreationTime': datetime.datetime(2024, 11, 14, 11, 16, 58, 121000, tzinfo=tzlocal()),\n",
       " 'LastModifiedTime': datetime.datetime(2024, 11, 14, 11, 16, 58, 121000, tzinfo=tzlocal()),\n",
       " 'CreatedBy': {'UserProfileArn': 'arn:aws:sagemaker:ap-northeast-2:242201274000:user-profile/d-l0dltcg6j4kj/default-20240923T230629',\n",
       "  'UserProfileName': 'default-20240923T230629',\n",
       "  'DomainId': 'd-l0dltcg6j4kj',\n",
       "  'IamIdentity': {'Arn': 'arn:aws:sts::242201274000:assumed-role/AmazonSageMaker-ExecutionRole-20240923T230631/SageMaker',\n",
       "   'PrincipalId': 'AROATQZCSE2IHHIBWPD6G:SageMaker'}},\n",
       " 'LastModifiedBy': {'UserProfileArn': 'arn:aws:sagemaker:ap-northeast-2:242201274000:user-profile/d-l0dltcg6j4kj/default-20240923T230629',\n",
       "  'UserProfileName': 'default-20240923T230629',\n",
       "  'DomainId': 'd-l0dltcg6j4kj',\n",
       "  'IamIdentity': {'Arn': 'arn:aws:sts::242201274000:assumed-role/AmazonSageMaker-ExecutionRole-20240923T230631/SageMaker',\n",
       "   'PrincipalId': 'AROATQZCSE2IHHIBWPD6G:SageMaker'}},\n",
       " 'ResponseMetadata': {'RequestId': '7b0109fd-71a0-46c8-8865-74c2b25b1c33',\n",
       "  'HTTPStatusCode': 200,\n",
       "  'HTTPHeaders': {'x-amzn-requestid': '7b0109fd-71a0-46c8-8865-74c2b25b1c33',\n",
       "   'content-type': 'application/x-amz-json-1.1',\n",
       "   'content-length': '1133',\n",
       "   'date': 'Thu, 14 Nov 2024 11:16:58 GMT'},\n",
       "  'RetryAttempts': 0}}"
      ]
     },
     "execution_count": 55,
     "metadata": {},
     "output_type": "execute_result"
    }
   ],
   "source": [
    "execution.describe()"
   ]
  },
  {
   "cell_type": "code",
   "execution_count": 56,
   "id": "e0ccb771-891c-442d-9940-ecd9ab2c977e",
   "metadata": {},
   "outputs": [],
   "source": [
    "execution.wait()"
   ]
  },
  {
   "cell_type": "code",
   "execution_count": 57,
   "id": "e5a70f29-9308-4657-96b0-48839cd3b448",
   "metadata": {},
   "outputs": [
    {
     "data": {
      "text/plain": [
       "[{'StepName': 'Kefico-AD-Basic-Train',\n",
       "  'StartTime': datetime.datetime(2024, 11, 14, 11, 16, 58, 783000, tzinfo=tzlocal()),\n",
       "  'EndTime': datetime.datetime(2024, 11, 14, 11, 20, 55, 144000, tzinfo=tzlocal()),\n",
       "  'StepStatus': 'Succeeded',\n",
       "  'Metadata': {'TrainingJob': {'Arn': 'arn:aws:sagemaker:ap-northeast-2:242201274000:training-job/pipelines-7x8zsnx15dc6-Kefico-AD-Basic-Trai-OXAk7EvaE6'}},\n",
       "  'AttemptCount': 1}]"
      ]
     },
     "execution_count": 57,
     "metadata": {},
     "output_type": "execute_result"
    }
   ],
   "source": [
    "execution.list_steps()"
   ]
  },
  {
   "cell_type": "code",
   "execution_count": 62,
   "id": "9477de54-6b9c-4b3b-87ed-6ee17951362d",
   "metadata": {},
   "outputs": [
    {
     "name": "stdout",
     "output_type": "stream",
     "text": [
      "[{'StepName': 'Kefico-AD-Basic-Train', 'StartTime': datetime.datetime(2024, 11, 14, 11, 16, 58, 783000, tzinfo=tzlocal()), 'EndTime': datetime.datetime(2024, 11, 14, 11, 20, 55, 144000, tzinfo=tzlocal()), 'StepStatus': 'Succeeded', 'Metadata': {'TrainingJob': {'Arn': 'arn:aws:sagemaker:ap-northeast-2:242201274000:training-job/pipelines-7x8zsnx15dc6-Kefico-AD-Basic-Trai-OXAk7EvaE6'}}, 'AttemptCount': 1}]\n",
      "train_model_artifact:  s3://sagemaker-ap-northeast-2-242201274000/Kefico-Anomaly-Detection/training_jobs/pipelines-7x8zsnx15dc6-Kefico-AD-Basic-Trai-OXAk7EvaE6/output/model.tar.gz\n"
     ]
    }
   ],
   "source": [
    "def get_train_artifact(execution, client, job_type,  kind=0):\n",
    "    '''\n",
    "    kind: 0 --> train\n",
    "    kind: 2 --> test\n",
    "    '''\n",
    "    response = execution.list_steps()\n",
    "    print(response)\n",
    "    proc_arn = response[0]['Metadata'][job_type]['Arn']\n",
    "    train_job_name = proc_arn.split('/')[-1]\n",
    "    # print(\"train_job_name: \", train_job_name)\n",
    "    response = client.describe_training_job(TrainingJobName = train_job_name)\n",
    "    train_model_artifact = response['ModelArtifacts']['S3ModelArtifacts']    \n",
    "    \n",
    "    return train_model_artifact\n",
    "\n",
    "client = boto3.client('sagemaker')\n",
    "train_model_artifact = get_train_artifact(execution, client, job_type='TrainingJob', kind=0)\n",
    "print('train_model_artifact: ', train_model_artifact)"
   ]
  },
  {
   "cell_type": "code",
   "execution_count": 63,
   "id": "5d3f3f64-3cc7-4e79-8565-7916409ce845",
   "metadata": {},
   "outputs": [
    {
     "name": "stdout",
     "output_type": "stream",
     "text": [
      "image_uri: \n",
      " 763104351884.dkr.ecr.ap-northeast-2.amazonaws.com/pytorch-training:2.4.0-cpu-py311-ubuntu22.04-sagemaker\n"
     ]
    }
   ],
   "source": [
    "image_uri = estimator.image_uri\n",
    "# help(estimator)\n",
    "print(\"image_uri: \\n\", image_uri)"
   ]
  },
  {
   "cell_type": "code",
   "execution_count": 64,
   "id": "68f657b5-54bf-46b3-ba75-a262176ce16b",
   "metadata": {},
   "outputs": [
    {
     "name": "stdout",
     "output_type": "stream",
     "text": [
      "Stored 'train_model_artifact' (str)\n",
      "Stored 'image_uri' (str)\n"
     ]
    }
   ],
   "source": [
    "%store train_model_artifact\n",
    "%store image_uri"
   ]
  },
  {
   "cell_type": "code",
   "execution_count": null,
   "id": "6c505eab-aebf-41c0-90e4-d0783aa3fdba",
   "metadata": {},
   "outputs": [],
   "source": []
  },
  {
   "cell_type": "code",
   "execution_count": null,
   "id": "e0a9b5ef-6bbf-4082-98c4-42ebab70298a",
   "metadata": {},
   "outputs": [],
   "source": []
  },
  {
   "cell_type": "code",
   "execution_count": null,
   "id": "67e16fff-7b2e-4235-8420-67e58bcc3e13",
   "metadata": {},
   "outputs": [],
   "source": []
  },
  {
   "cell_type": "code",
   "execution_count": null,
   "id": "bda81612-2c6e-4ce0-b3a5-bd0e9051764c",
   "metadata": {},
   "outputs": [],
   "source": []
  },
  {
   "cell_type": "code",
   "execution_count": null,
   "id": "57f0707e-93a7-43f6-b4b1-8c0cff1c3b9f",
   "metadata": {},
   "outputs": [],
   "source": []
  },
  {
   "cell_type": "code",
   "execution_count": null,
   "id": "bdc2208e-4074-4204-9ada-453e73f9feb1",
   "metadata": {},
   "outputs": [],
   "source": []
  },
  {
   "cell_type": "code",
   "execution_count": null,
   "id": "18ed9bc5-c707-40df-930e-de09f124225e",
   "metadata": {},
   "outputs": [],
   "source": []
  },
  {
   "cell_type": "code",
   "execution_count": null,
   "id": "a657c5b1-b0ab-415d-a231-9c7a26cf83c6",
   "metadata": {},
   "outputs": [],
   "source": []
  }
 ],
 "metadata": {
  "kernelspec": {
   "display_name": "Python 3 (ipykernel)",
   "language": "python",
   "name": "python3"
  },
  "language_info": {
   "codemirror_mode": {
    "name": "ipython",
    "version": 3
   },
   "file_extension": ".py",
   "mimetype": "text/x-python",
   "name": "python",
   "nbconvert_exporter": "python",
   "pygments_lexer": "ipython3",
   "version": "3.11.9"
  }
 },
 "nbformat": 4,
 "nbformat_minor": 5
}
