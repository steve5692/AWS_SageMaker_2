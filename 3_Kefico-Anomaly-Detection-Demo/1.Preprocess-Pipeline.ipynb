{
 "cells": [
  {
   "cell_type": "code",
   "execution_count": 43,
   "id": "750c51de-6629-487b-ae7b-9749a814a31f",
   "metadata": {},
   "outputs": [
    {
     "name": "stdout",
     "output_type": "stream",
     "text": [
      "now using bucket:  sagemaker-ap-northeast-2-242201274000\n",
      "Stored 'bucket' (str)\n"
     ]
    }
   ],
   "source": [
    "import sagemaker\n",
    "import boto3\n",
    "import os\n",
    "import pandas as pd\n",
    "from IPython.display import display as dp\n",
    "\n",
    "DEFAULT_BUCKET = True\n",
    "if DEFAULT_BUCKET:\n",
    "    sagemaker_session = sagemaker.session.Session()\n",
    "    bucket = sagemaker_session.default_bucket()\n",
    "else:\n",
    "    bucket = \"<사용자 버켓 이름>\"\n",
    "    \n",
    "print(\"now using bucket: \", bucket)\n",
    "%store bucket"
   ]
  },
  {
   "cell_type": "code",
   "execution_count": 44,
   "id": "f4469306-5331-40f6-8b50-eaff8dedc9c1",
   "metadata": {},
   "outputs": [
    {
     "name": "stdout",
     "output_type": "stream",
     "text": [
      "SG Role:  arn:aws:iam::242201274000:role/service-role/AmazonSageMaker-ExecutionRole-20240923T230631\n"
     ]
    }
   ],
   "source": [
    "region = boto3.Session().region_name\n",
    "sagemaker_session = sagemaker.session.Session()\n",
    "role = sagemaker.get_execution_role()\n",
    "print('SG Role: ', role)"
   ]
  },
  {
   "cell_type": "code",
   "execution_count": 45,
   "id": "c34a3ce3-f3e4-4ae2-896f-1c4b5570e159",
   "metadata": {},
   "outputs": [],
   "source": [
    "# preprocessing_code = 'src/ad_preprocessing.py'\n",
    "# %store preprocessing_code"
   ]
  },
  {
   "cell_type": "code",
   "execution_count": 46,
   "id": "44049dbd-f679-4d77-9562-4103a34e68ee",
   "metadata": {},
   "outputs": [],
   "source": [
    "# base_output_dir = 'opt/ml/processing/output' \n",
    "\n",
    "# # 도커 컨테이너의 입력 폴더와 비슷한 환경 기술\n",
    "# base_preproc_input_dir = 'opt/ml/processing/input'\n",
    "# os.makedirs(base_preproc_input_dir, exist_ok=True)\n",
    "\n",
    "# # 출력 훈련 폴더를 기술 합니다.\n",
    "# base_preproc_output_train_dir = 'opt/ml/processing/output/'\n",
    "# os.makedirs(base_preproc_output_train_dir, exist_ok=True)\n",
    "\n",
    "# query_result_s3_uri = \"s3://kefico-source/AD-Athena-Query-Result\"\n",
    "# database = \"kefico-bigdata\"\n",
    "# table = \"v2lc\"\n",
    "# test_name = \"Severe1_Below1.12s_8\"\n",
    "\n",
    "# query = f\"SELECT * FROM \\\"{database}\\\".\\\"{table}\\\" WHERE partition_1 = '{test_name}'\"\n",
    "# print(query)"
   ]
  },
  {
   "cell_type": "code",
   "execution_count": 47,
   "id": "449bf22d-8c37-43e4-8d57-96181fe777ed",
   "metadata": {},
   "outputs": [],
   "source": [
    "# ! python {preprocessing_code} --base_output_dir {base_output_dir} \\\n",
    "#                               --query_result_s3_uri {query_result_s3_uri} \\\n",
    "#                               --database {database} \\\n",
    "#                               --table {table} \\\n",
    "#                               --test_name {test_name} "
   ]
  },
  {
   "cell_type": "code",
   "execution_count": 48,
   "id": "84628c70-edf8-47eb-8dce-a2b2c2b46974",
   "metadata": {},
   "outputs": [
    {
     "name": "stdout",
     "output_type": "stream",
     "text": [
      "Stored 'preprocessing_code' (str)\n"
     ]
    }
   ],
   "source": [
    "preprocessing_code = 'src/ad_parquet_preprocessing.py'\n",
    "%store preprocessing_code"
   ]
  },
  {
   "cell_type": "code",
   "execution_count": 49,
   "id": "8bb6db18-320d-49df-836d-9ae608206856",
   "metadata": {},
   "outputs": [],
   "source": [
    "base_output_dir = 'opt/ml/processing/output' \n",
    "\n",
    "# 도커 컨테이너의 입력 폴더와 비슷한 환경 기술\n",
    "base_preproc_input_dir = 'opt/ml/processing/input/raw/'\n",
    "os.makedirs(base_preproc_input_dir, exist_ok=True)\n",
    "\n",
    "# 출력 훈련 폴더를 기술 합니다.\n",
    "base_preproc_output_dir = 'opt/ml/processing/output/'\n",
    "os.makedirs(base_preproc_output_dir, exist_ok=True)"
   ]
  },
  {
   "cell_type": "code",
   "execution_count": 50,
   "id": "ed8c87e2-26ab-4f8f-a37f-f1dfe62f6941",
   "metadata": {},
   "outputs": [],
   "source": [
    "controller_name = \"V2LC\"\n",
    "main_test_name = \"HEV_P2_ACOverLoad_IG1_1\"\n",
    "sub_test_name = \"Severe1_Above2.83s_1\""
   ]
  },
  {
   "cell_type": "code",
   "execution_count": 51,
   "id": "4d1d6175-e7c2-4c4b-b12a-fdeed8ff08b8",
   "metadata": {},
   "outputs": [
    {
     "name": "stdout",
     "output_type": "stream",
     "text": [
      "Stored 'controller_name' (str)\n",
      "Stored 'main_test_name' (str)\n",
      "Stored 'sub_test_name' (str)\n"
     ]
    }
   ],
   "source": [
    "%store controller_name\n",
    "%store main_test_name\n",
    "%store sub_test_name"
   ]
  },
  {
   "cell_type": "code",
   "execution_count": 52,
   "id": "dfade271-1215-4cc5-ba50-9e617108186a",
   "metadata": {},
   "outputs": [],
   "source": [
    "# ! python {preprocessing_code} --base_preproc_input_dir {base_preproc_input_dir} \\\n",
    "#                               --base_preproc_output_dir {base_preproc_output_dir}"
   ]
  },
  {
   "cell_type": "code",
   "execution_count": 53,
   "id": "1bdd0fc0-018c-46de-81f7-9e4d34d84124",
   "metadata": {},
   "outputs": [
    {
     "name": "stdout",
     "output_type": "stream",
     "text": [
      "s3://kefico-source/main_parquet_dir/V2LC/HEV_P2_ACOverLoad_IG1_1/Severe1_Above2.83s_1/\n"
     ]
    }
   ],
   "source": [
    "# Pipeline Parameter 정의\n",
    "from sagemaker.workflow.parameters import ParameterInteger, ParameterString\n",
    "\n",
    "input_data_uri = f's3://kefico-source/main_parquet_dir/{controller_name}/{main_test_name}/{sub_test_name}/'\n",
    "\n",
    "processing_instance_count = ParameterInteger(\n",
    "    name='ProcessingInstanceCount',\n",
    "    default_value=1\n",
    ")\n",
    "\n",
    "processing_instance_type = ParameterString(\n",
    "    name=\"ProcessingInstanceType\",\n",
    "    default_value=\"ml.m4.10xlarge\"\n",
    ")\n",
    "\n",
    "input_data = ParameterString(\n",
    "    name=\"InputData\",\n",
    "    default_value=input_data_uri\n",
    ")\n",
    "\n",
    "print(input_data_uri)"
   ]
  },
  {
   "cell_type": "code",
   "execution_count": 54,
   "id": "b33e89c4-8b6f-4c46-849f-295b344745dc",
   "metadata": {},
   "outputs": [
    {
     "name": "stderr",
     "output_type": "stream",
     "text": [
      "WARNING:sagemaker.workflow.utilities:The input argument instance_type of function (sagemaker.image_uris.retrieve) is a pipeline variable (<class 'sagemaker.workflow.parameters.ParameterString'>), which is interpreted in pipeline execution time only. As the function needs to evaluate the argument value in SDK compile time, the default_value of this Parameter object will be used to override it. Please make sure the default_value is valid.\n",
      "INFO:sagemaker.image_uris:Defaulting to only available Python version: py3\n"
     ]
    }
   ],
   "source": [
    "from sagemaker.sklearn.processing import SKLearnProcessor\n",
    "\n",
    "framework_version = '1.0-1'\n",
    "\n",
    "sklearn_processor = SKLearnProcessor(\n",
    "    framework_version=framework_version,\n",
    "    instance_type=processing_instance_type,\n",
    "    instance_count=processing_instance_count,\n",
    "    base_job_name='sklearn-AD-Demo-process',\n",
    "    role=role\n",
    ")"
   ]
  },
  {
   "cell_type": "code",
   "execution_count": 55,
   "id": "f5de853d-90f6-4098-8130-b46d009042e2",
   "metadata": {},
   "outputs": [],
   "source": [
    "from sagemaker.processing import ProcessingInput, ProcessingOutput\n",
    "from sagemaker.workflow.steps import ProcessingStep\n",
    "\n",
    "step_process = ProcessingStep(\n",
    "    name='AD-Demo-Basic-Process',\n",
    "    processor=sklearn_processor,\n",
    "    inputs = [ProcessingInput(source=input_data_uri, destination='/opt/ml/processing/input/raw')],\n",
    "    outputs = [ProcessingOutput(output_name='train', source='/opt/ml/processing/output')],\n",
    "    code = preprocessing_code\n",
    ")"
   ]
  },
  {
   "cell_type": "code",
   "execution_count": 56,
   "id": "c155f869-1e00-43bf-a228-78f383b26079",
   "metadata": {},
   "outputs": [],
   "source": [
    "from sagemaker.workflow.pipeline import Pipeline\n",
    "\n",
    "project_prefix = \"Kefico-Anomaly-Detection\"\n",
    "\n",
    "pipeline_name = project_prefix\n",
    "pipeline = Pipeline(\n",
    "    name=pipeline_name,\n",
    "    parameters=[\n",
    "        processing_instance_type,\n",
    "        processing_instance_count,\n",
    "        input_data\n",
    "    ],\n",
    "    steps=[step_process]\n",
    ")"
   ]
  },
  {
   "cell_type": "code",
   "execution_count": 57,
   "id": "5d87572f-b6a3-43f4-b30b-61b97d02c784",
   "metadata": {},
   "outputs": [
    {
     "name": "stderr",
     "output_type": "stream",
     "text": [
      "WARNING:sagemaker.workflow.utilities:Popping out 'ProcessingJobName' from the pipeline definition by default since it will be overridden at pipeline execution time. Please utilize the PipelineDefinitionConfig to persist this field in the pipeline definition if desired.\n"
     ]
    },
    {
     "data": {
      "text/plain": [
       "{'Version': '2020-12-01',\n",
       " 'Metadata': {},\n",
       " 'Parameters': [{'Name': 'ProcessingInstanceType',\n",
       "   'Type': 'String',\n",
       "   'DefaultValue': 'ml.m4.10xlarge'},\n",
       "  {'Name': 'ProcessingInstanceCount', 'Type': 'Integer', 'DefaultValue': 1},\n",
       "  {'Name': 'InputData',\n",
       "   'Type': 'String',\n",
       "   'DefaultValue': 's3://kefico-source/main_parquet_dir/V2LC/HEV_P2_ACOverLoad_IG1_1/Severe1_Above2.83s_1/'}],\n",
       " 'PipelineExperimentConfig': {'ExperimentName': {'Get': 'Execution.PipelineName'},\n",
       "  'TrialName': {'Get': 'Execution.PipelineExecutionId'}},\n",
       " 'Steps': [{'Name': 'AD-Demo-Basic-Process',\n",
       "   'Type': 'Processing',\n",
       "   'Arguments': {'ProcessingResources': {'ClusterConfig': {'InstanceType': {'Get': 'Parameters.ProcessingInstanceType'},\n",
       "      'InstanceCount': {'Get': 'Parameters.ProcessingInstanceCount'},\n",
       "      'VolumeSizeInGB': 30}},\n",
       "    'AppSpecification': {'ImageUri': '366743142698.dkr.ecr.ap-northeast-2.amazonaws.com/sagemaker-scikit-learn:1.0-1-cpu-py3',\n",
       "     'ContainerEntrypoint': ['python3',\n",
       "      '/opt/ml/processing/input/code/ad_parquet_preprocessing.py']},\n",
       "    'RoleArn': 'arn:aws:iam::242201274000:role/service-role/AmazonSageMaker-ExecutionRole-20240923T230631',\n",
       "    'ProcessingInputs': [{'InputName': 'input-1',\n",
       "      'AppManaged': False,\n",
       "      'S3Input': {'S3Uri': 's3://kefico-source/main_parquet_dir/V2LC/HEV_P2_ACOverLoad_IG1_1/Severe1_Above2.83s_1/',\n",
       "       'LocalPath': '/opt/ml/processing/input/raw',\n",
       "       'S3DataType': 'S3Prefix',\n",
       "       'S3InputMode': 'File',\n",
       "       'S3DataDistributionType': 'FullyReplicated',\n",
       "       'S3CompressionType': 'None'}},\n",
       "     {'InputName': 'code',\n",
       "      'AppManaged': False,\n",
       "      'S3Input': {'S3Uri': 's3://sagemaker-ap-northeast-2-242201274000/AD-Demo-Basic-Process-85db8e3082db4fb1f8fd599543289236/input/code/ad_parquet_preprocessing.py',\n",
       "       'LocalPath': '/opt/ml/processing/input/code',\n",
       "       'S3DataType': 'S3Prefix',\n",
       "       'S3InputMode': 'File',\n",
       "       'S3DataDistributionType': 'FullyReplicated',\n",
       "       'S3CompressionType': 'None'}}],\n",
       "    'ProcessingOutputConfig': {'Outputs': [{'OutputName': 'train',\n",
       "       'AppManaged': False,\n",
       "       'S3Output': {'S3Uri': {'Std:Join': {'On': '/',\n",
       "          'Values': ['s3:/',\n",
       "           'sagemaker-ap-northeast-2-242201274000',\n",
       "           'Kefico-Anomaly-Detection',\n",
       "           {'Get': 'Execution.PipelineExecutionId'},\n",
       "           'AD-Demo-Basic-Process',\n",
       "           'output',\n",
       "           'train']}},\n",
       "        'LocalPath': '/opt/ml/processing/output',\n",
       "        'S3UploadMode': 'EndOfJob'}}]}}}]}"
      ]
     },
     "execution_count": 57,
     "metadata": {},
     "output_type": "execute_result"
    }
   ],
   "source": [
    "import json\n",
    "\n",
    "definition = json.loads(pipeline.definition())\n",
    "definition"
   ]
  },
  {
   "cell_type": "code",
   "execution_count": 58,
   "id": "f46b56a8-b9f7-4a97-8a9b-3871f51efc9f",
   "metadata": {},
   "outputs": [
    {
     "name": "stderr",
     "output_type": "stream",
     "text": [
      "WARNING:sagemaker.workflow.utilities:Popping out 'ProcessingJobName' from the pipeline definition by default since it will be overridden at pipeline execution time. Please utilize the PipelineDefinitionConfig to persist this field in the pipeline definition if desired.\n",
      "WARNING:sagemaker.workflow.utilities:Popping out 'ProcessingJobName' from the pipeline definition by default since it will be overridden at pipeline execution time. Please utilize the PipelineDefinitionConfig to persist this field in the pipeline definition if desired.\n"
     ]
    }
   ],
   "source": [
    "# Pipeline 등록, 실행\n",
    "pipeline.upsert(role_arn=role)\n",
    "execution = pipeline.start()"
   ]
  },
  {
   "cell_type": "code",
   "execution_count": 59,
   "id": "45566ff7-0246-4862-ac28-cfaf37996854",
   "metadata": {},
   "outputs": [
    {
     "data": {
      "text/plain": [
       "{'PipelineArn': 'arn:aws:sagemaker:ap-northeast-2:242201274000:pipeline/Kefico-Anomaly-Detection',\n",
       " 'PipelineExecutionArn': 'arn:aws:sagemaker:ap-northeast-2:242201274000:pipeline/Kefico-Anomaly-Detection/execution/qndxxla8e90s',\n",
       " 'PipelineExecutionDisplayName': 'execution-1731635872504',\n",
       " 'PipelineExecutionStatus': 'Executing',\n",
       " 'CreationTime': datetime.datetime(2024, 11, 15, 1, 57, 52, 444000, tzinfo=tzlocal()),\n",
       " 'LastModifiedTime': datetime.datetime(2024, 11, 15, 1, 57, 52, 444000, tzinfo=tzlocal()),\n",
       " 'CreatedBy': {'UserProfileArn': 'arn:aws:sagemaker:ap-northeast-2:242201274000:user-profile/d-l0dltcg6j4kj/default-20240923T230629',\n",
       "  'UserProfileName': 'default-20240923T230629',\n",
       "  'DomainId': 'd-l0dltcg6j4kj',\n",
       "  'IamIdentity': {'Arn': 'arn:aws:sts::242201274000:assumed-role/AmazonSageMaker-ExecutionRole-20240923T230631/SageMaker',\n",
       "   'PrincipalId': 'AROATQZCSE2IHHIBWPD6G:SageMaker'}},\n",
       " 'LastModifiedBy': {'UserProfileArn': 'arn:aws:sagemaker:ap-northeast-2:242201274000:user-profile/d-l0dltcg6j4kj/default-20240923T230629',\n",
       "  'UserProfileName': 'default-20240923T230629',\n",
       "  'DomainId': 'd-l0dltcg6j4kj',\n",
       "  'IamIdentity': {'Arn': 'arn:aws:sts::242201274000:assumed-role/AmazonSageMaker-ExecutionRole-20240923T230631/SageMaker',\n",
       "   'PrincipalId': 'AROATQZCSE2IHHIBWPD6G:SageMaker'}},\n",
       " 'ResponseMetadata': {'RequestId': '5d18ea0d-abac-4861-9d42-f0dac20a1130',\n",
       "  'HTTPStatusCode': 200,\n",
       "  'HTTPHeaders': {'x-amzn-requestid': '5d18ea0d-abac-4861-9d42-f0dac20a1130',\n",
       "   'content-type': 'application/x-amz-json-1.1',\n",
       "   'content-length': '1133',\n",
       "   'date': 'Fri, 15 Nov 2024 01:57:52 GMT'},\n",
       "  'RetryAttempts': 0}}"
      ]
     },
     "execution_count": 59,
     "metadata": {},
     "output_type": "execute_result"
    }
   ],
   "source": [
    "execution.describe()"
   ]
  },
  {
   "cell_type": "code",
   "execution_count": 60,
   "id": "dec818e5-af23-4c0e-90e7-7a0bd6196b83",
   "metadata": {},
   "outputs": [],
   "source": [
    "execution.wait()"
   ]
  },
  {
   "cell_type": "code",
   "execution_count": 61,
   "id": "9d3f83a1-2bc8-4e6f-b7e2-36b492475275",
   "metadata": {},
   "outputs": [
    {
     "data": {
      "text/plain": [
       "[{'StepName': 'AD-Demo-Basic-Process',\n",
       "  'StartTime': datetime.datetime(2024, 11, 15, 1, 57, 53, 591000, tzinfo=tzlocal()),\n",
       "  'EndTime': datetime.datetime(2024, 11, 15, 2, 5, 26, 967000, tzinfo=tzlocal()),\n",
       "  'StepStatus': 'Succeeded',\n",
       "  'Metadata': {'ProcessingJob': {'Arn': 'arn:aws:sagemaker:ap-northeast-2:242201274000:processing-job/pipelines-qndxxla8e90s-AD-Demo-Basic-Proces-MNCVvnZHpV'}},\n",
       "  'AttemptCount': 1}]"
      ]
     },
     "execution_count": 61,
     "metadata": {},
     "output_type": "execute_result"
    }
   ],
   "source": [
    "execution.list_steps()"
   ]
  },
  {
   "cell_type": "code",
   "execution_count": 62,
   "id": "4805c92d-de8a-4bfe-99ff-5d62b5c14c2c",
   "metadata": {},
   "outputs": [
    {
     "name": "stdout",
     "output_type": "stream",
     "text": [
      "[{'OutputName': 'train', 'S3Output': {'S3Uri': 's3://sagemaker-ap-northeast-2-242201274000/Kefico-Anomaly-Detection/qndxxla8e90s/AD-Demo-Basic-Process/output/train', 'LocalPath': '/opt/ml/processing/output', 'S3UploadMode': 'EndOfJob'}, 'AppManaged': False}]\n",
      "output-train:  s3://sagemaker-ap-northeast-2-242201274000/Kefico-Anomaly-Detection/qndxxla8e90s/AD-Demo-Basic-Process/output/train\n"
     ]
    }
   ],
   "source": [
    "# 전처리 후 결과 파일 경로 추출\n",
    "import boto3\n",
    "\n",
    "def get_proc_artifact(execution, client, kind):\n",
    "    \n",
    "    '''\n",
    "    preprocess 후 전처리 결과물의 S3경로를 획득\n",
    "    kind = 0 --> train\n",
    "    kind = 1 --> test\n",
    "    '''\n",
    "    response = execution.list_steps()\n",
    "\n",
    "    proc_arn = response[-1]['Metadata']['ProcessingJob']['Arn']\n",
    "    # print(proc_arn)\n",
    "    \n",
    "    proc_job_name = proc_arn.split('/')[-1]\n",
    "    # print(proc_job_name)\n",
    "\n",
    "    response = client.describe_processing_job(ProcessingJobName = proc_job_name)\n",
    "    print(response['ProcessingOutputConfig']['Outputs'])\n",
    "    test_preprocessed_file = response['ProcessingOutputConfig']['Outputs'][kind]['S3Output']['S3Uri']\n",
    "    return test_preprocessed_file\n",
    "\n",
    "\n",
    "client = boto3.client(\"sagemaker\")\n",
    "\n",
    "train_preproc_dir_artifact = get_proc_artifact(execution, client, kind=0)\n",
    "# test_preproc_dir_artifact = get_proc_artifact(execution, client, kind=1)\n",
    "\n",
    "print('output-train: ', train_preproc_dir_artifact)\n",
    "# print('output-test : ', test_preproc_dir_artifact)"
   ]
  },
  {
   "cell_type": "code",
   "execution_count": 63,
   "id": "be50b14d-d050-43c2-a2d8-c2def5845108",
   "metadata": {},
   "outputs": [
    {
     "name": "stdout",
     "output_type": "stream",
     "text": [
      "Stored 'train_preproc_dir_artifact' (str)\n"
     ]
    }
   ],
   "source": [
    "%store train_preproc_dir_artifact"
   ]
  },
  {
   "cell_type": "code",
   "execution_count": null,
   "id": "af9a83cf-cbbe-435f-99ad-08f559474fa9",
   "metadata": {},
   "outputs": [],
   "source": []
  },
  {
   "cell_type": "code",
   "execution_count": null,
   "id": "d16fcda9-8b3c-46f0-ba94-fa5ce57b28a8",
   "metadata": {},
   "outputs": [],
   "source": []
  },
  {
   "cell_type": "code",
   "execution_count": null,
   "id": "6d3e619e-9f8d-463b-b1d4-91c426e635c3",
   "metadata": {},
   "outputs": [],
   "source": []
  },
  {
   "cell_type": "code",
   "execution_count": null,
   "id": "989c6470-7a50-41b4-86d8-6b3bab015f64",
   "metadata": {},
   "outputs": [],
   "source": []
  },
  {
   "cell_type": "code",
   "execution_count": null,
   "id": "a2917260-3188-4668-8112-939d9afc91d4",
   "metadata": {},
   "outputs": [],
   "source": []
  },
  {
   "cell_type": "code",
   "execution_count": null,
   "id": "a0285381-6d2b-4ae7-936e-e3bd1efe47da",
   "metadata": {},
   "outputs": [],
   "source": []
  },
  {
   "cell_type": "code",
   "execution_count": null,
   "id": "e76a7a70-aeba-4f5e-abb3-41270a6a6173",
   "metadata": {},
   "outputs": [],
   "source": []
  },
  {
   "cell_type": "code",
   "execution_count": null,
   "id": "cce96255-fa36-4c13-9e04-35f93de0532d",
   "metadata": {},
   "outputs": [],
   "source": []
  }
 ],
 "metadata": {
  "kernelspec": {
   "display_name": "Python 3 (ipykernel)",
   "language": "python",
   "name": "python3"
  },
  "language_info": {
   "codemirror_mode": {
    "name": "ipython",
    "version": 3
   },
   "file_extension": ".py",
   "mimetype": "text/x-python",
   "name": "python",
   "nbconvert_exporter": "python",
   "pygments_lexer": "ipython3",
   "version": "3.11.9"
  }
 },
 "nbformat": 4,
 "nbformat_minor": 5
}
