{
 "cells": [
  {
   "cell_type": "code",
   "execution_count": 29,
   "id": "28b81e1f-9972-447d-ab09-886aa65aab85",
   "metadata": {},
   "outputs": [
    {
     "name": "stdout",
     "output_type": "stream",
     "text": [
      "Stored variables and their in-db values:\n",
      "base_model_uri                         -> 's3://jumpstart-cache-prod-ap-northeast-2/pytorch-\n",
      "bucket                                 -> 'sagemaker-ap-northeast-2-242201274000'\n",
      "controller_name                        -> 'V2LC'\n",
      "default_bucket                         -> 'sagemaker-ap-northeast-2-242201274000'\n",
      "image_uri                              -> '763104351884.dkr.ecr.ap-northeast-2.amazonaws.com\n",
      "input_data_uri                         -> 's3://sagemaker-ap-northeast-2-242201274000/cat-br\n",
      "main_test_name                         -> 'HEV_P2_ACOverLoad_IG1_1'\n",
      "model_image_uri                        -> '763104351884.dkr.ecr.ap-northeast-2.amazonaws.com\n",
      "model_package_group_name               -> 'CatBreedModelPackage'\n",
      "preprocessing_code                     -> 'src/ad_parquet_preprocessing.py'\n",
      "project_prefix                         -> 'Cat-Breed-Demo'\n",
      "role                                   -> 'arn:aws:iam::242201274000:role/service-role/Amazo\n",
      "sub_test_name                          -> 'Severe1_Above2.83s_1'\n",
      "test_preproc_dir_artifact              -> 's3://sagemaker-ap-northeast-2-242201274000/Cat-Br\n",
      "train_model_artifact                   -> 's3://sagemaker-ap-northeast-2-242201274000/CatBre\n",
      "train_preproc_dir_artifact             -> 's3://sagemaker-ap-northeast-2-242201274000/Cat-Br\n",
      "training_script_uri                    -> 's3://jumpstart-cache-prod-ap-northeast-2/source-d\n"
     ]
    }
   ],
   "source": [
    "%store -r\n",
    "%store"
   ]
  },
  {
   "cell_type": "code",
   "execution_count": 30,
   "id": "8e6a3b50-ebb6-4937-ac46-59e0409d9b8a",
   "metadata": {},
   "outputs": [],
   "source": [
    "from sagemaker.workflow.parameters import ParameterString, ParameterInteger\n",
    "\n",
    "evaluation_instance_type = ParameterString(\n",
    "    name=\"EvaluationInstanceType\",\n",
    "    default_value=\"ml.m5.large\"\n",
    ")\n",
    "\n",
    "evaluation_instance_count = ParameterInteger(\n",
    "    name=\"EvaluationInstanceCount\",\n",
    "    default_value=1\n",
    ")"
   ]
  },
  {
   "cell_type": "code",
   "execution_count": 31,
   "id": "8f42f1d9-4ad7-48b1-8a36-99b49c23e5b7",
   "metadata": {},
   "outputs": [],
   "source": [
    "from sagemaker.processing import ScriptProcessor\n",
    "from sagemaker.workflow.properties import PropertyFile\n",
    "\n",
    "script_eval = ScriptProcessor(\n",
    "    image_uri=model_image_uri,\n",
    "    command=[\"python3\"],\n",
    "    instance_type=evaluation_instance_type,\n",
    "    instance_count=evaluation_instance_count,\n",
    "    base_job_name=\"script-cat-breed-eval\",\n",
    "    role=role\n",
    ")\n",
    "\n",
    "evaluation_report = PropertyFile(\n",
    "    name=\"EvaluationReport\",\n",
    "    output_name=\"evaluation\",\n",
    "    path = \"evaluation.json\"\n",
    ")"
   ]
  },
  {
   "cell_type": "code",
   "execution_count": 32,
   "id": "20e54eca-e8ef-49e4-a388-8f9d80e7b2e3",
   "metadata": {},
   "outputs": [],
   "source": [
    "from sagemaker.processing import ProcessingInput, ProcessingOutput\n",
    "from sagemaker.workflow.steps import ProcessingStep\n",
    "\n",
    "step_eval = ProcessingStep(\n",
    "    name=\"CatBreedEval\",\n",
    "    processor=script_eval,\n",
    "    inputs=[ProcessingInput(source=train_model_artifact, destination='/opt/ml/processing/model'),\n",
    "           ProcessingInput(source=test_preproc_dir_artifact, destination=\"/opt/ml/processing/test\")],\n",
    "    outputs=[ProcessingOutput(output_name=\"evaluation\", source=\"/opt/ml/processing/evaluation\")],\n",
    "    code=\"cat-breed/evaluation.py\",\n",
    "    property_files=[evaluation_report]\n",
    ")"
   ]
  },
  {
   "cell_type": "code",
   "execution_count": 33,
   "id": "fb9525e0-7586-4cd4-b372-2cdf3e6412b9",
   "metadata": {},
   "outputs": [],
   "source": [
    "from sagemaker.workflow.pipeline import Pipeline\n",
    "\n",
    "project_prefix = \"Cat-Breed-Demo\"\n",
    "\n",
    "pipeline_name = project_prefix\n",
    "pipeline = Pipeline(\n",
    "    name=pipeline_name,\n",
    "    parameters=[\n",
    "        evaluation_instance_type, \n",
    "        evaluation_instance_count,\n",
    "    ],\n",
    "    steps=[step_eval],\n",
    ")"
   ]
  },
  {
   "cell_type": "code",
   "execution_count": 34,
   "id": "c6fa6176-7a59-4989-a892-a7b19a2f9dbe",
   "metadata": {},
   "outputs": [
    {
     "name": "stderr",
     "output_type": "stream",
     "text": [
      "WARNING:sagemaker.workflow.utilities:Popping out 'ProcessingJobName' from the pipeline definition by default since it will be overridden at pipeline execution time. Please utilize the PipelineDefinitionConfig to persist this field in the pipeline definition if desired.\n"
     ]
    },
    {
     "data": {
      "text/plain": [
       "{'Version': '2020-12-01',\n",
       " 'Metadata': {},\n",
       " 'Parameters': [{'Name': 'EvaluationInstanceType',\n",
       "   'Type': 'String',\n",
       "   'DefaultValue': 'ml.m5.large'},\n",
       "  {'Name': 'EvaluationInstanceCount', 'Type': 'Integer', 'DefaultValue': 1}],\n",
       " 'PipelineExperimentConfig': {'ExperimentName': {'Get': 'Execution.PipelineName'},\n",
       "  'TrialName': {'Get': 'Execution.PipelineExecutionId'}},\n",
       " 'Steps': [{'Name': 'CatBreedEval',\n",
       "   'Type': 'Processing',\n",
       "   'Arguments': {'ProcessingResources': {'ClusterConfig': {'InstanceType': {'Get': 'Parameters.EvaluationInstanceType'},\n",
       "      'InstanceCount': {'Get': 'Parameters.EvaluationInstanceCount'},\n",
       "      'VolumeSizeInGB': 30}},\n",
       "    'AppSpecification': {'ImageUri': '763104351884.dkr.ecr.ap-northeast-2.amazonaws.com/pytorch-training:1.10.0-cpu-py38',\n",
       "     'ContainerEntrypoint': ['python3',\n",
       "      '/opt/ml/processing/input/code/evaluation.py']},\n",
       "    'RoleArn': 'arn:aws:iam::242201274000:role/service-role/AmazonSageMaker-ExecutionRole-20240923T230631',\n",
       "    'ProcessingInputs': [{'InputName': 'input-1',\n",
       "      'AppManaged': False,\n",
       "      'S3Input': {'S3Uri': 's3://sagemaker-ap-northeast-2-242201274000/CatBreedTrain/pipelines-i6gc1y5pctlm-CatBreedTrain-wioBAR6TLe/output/model.tar.gz',\n",
       "       'LocalPath': '/opt/ml/processing/model',\n",
       "       'S3DataType': 'S3Prefix',\n",
       "       'S3InputMode': 'File',\n",
       "       'S3DataDistributionType': 'FullyReplicated',\n",
       "       'S3CompressionType': 'None'}},\n",
       "     {'InputName': 'input-2',\n",
       "      'AppManaged': False,\n",
       "      'S3Input': {'S3Uri': 's3://sagemaker-ap-northeast-2-242201274000/Cat-Breed-Demo/yexuildyuhgd/CatBreedProcess/output/test',\n",
       "       'LocalPath': '/opt/ml/processing/test',\n",
       "       'S3DataType': 'S3Prefix',\n",
       "       'S3InputMode': 'File',\n",
       "       'S3DataDistributionType': 'FullyReplicated',\n",
       "       'S3CompressionType': 'None'}},\n",
       "     {'InputName': 'code',\n",
       "      'AppManaged': False,\n",
       "      'S3Input': {'S3Uri': 's3://sagemaker-ap-northeast-2-242201274000/CatBreedEval-397cfe7602e9e415f7efd07dacfcd68d/input/code/evaluation.py',\n",
       "       'LocalPath': '/opt/ml/processing/input/code',\n",
       "       'S3DataType': 'S3Prefix',\n",
       "       'S3InputMode': 'File',\n",
       "       'S3DataDistributionType': 'FullyReplicated',\n",
       "       'S3CompressionType': 'None'}}],\n",
       "    'ProcessingOutputConfig': {'Outputs': [{'OutputName': 'evaluation',\n",
       "       'AppManaged': False,\n",
       "       'S3Output': {'S3Uri': {'Std:Join': {'On': '/',\n",
       "          'Values': ['s3:/',\n",
       "           'sagemaker-ap-northeast-2-242201274000',\n",
       "           'Cat-Breed-Demo',\n",
       "           {'Get': 'Execution.PipelineExecutionId'},\n",
       "           'CatBreedEval',\n",
       "           'output',\n",
       "           'evaluation']}},\n",
       "        'LocalPath': '/opt/ml/processing/evaluation',\n",
       "        'S3UploadMode': 'EndOfJob'}}]}},\n",
       "   'PropertyFiles': [{'PropertyFileName': 'EvaluationReport',\n",
       "     'OutputName': 'evaluation',\n",
       "     'FilePath': 'evaluation.json'}]}]}"
      ]
     },
     "execution_count": 34,
     "metadata": {},
     "output_type": "execute_result"
    }
   ],
   "source": [
    "import json\n",
    "\n",
    "definition = json.loads(pipeline.definition())\n",
    "definition"
   ]
  },
  {
   "cell_type": "code",
   "execution_count": 35,
   "id": "866f1e39-9cf2-4f26-97a9-dacbd339890c",
   "metadata": {},
   "outputs": [
    {
     "name": "stderr",
     "output_type": "stream",
     "text": [
      "WARNING:sagemaker.workflow.utilities:Popping out 'ProcessingJobName' from the pipeline definition by default since it will be overridden at pipeline execution time. Please utilize the PipelineDefinitionConfig to persist this field in the pipeline definition if desired.\n",
      "WARNING:sagemaker.workflow.utilities:Popping out 'ProcessingJobName' from the pipeline definition by default since it will be overridden at pipeline execution time. Please utilize the PipelineDefinitionConfig to persist this field in the pipeline definition if desired.\n"
     ]
    }
   ],
   "source": [
    "pipeline.upsert(role_arn=role)\n",
    "execution = pipeline.start()"
   ]
  },
  {
   "cell_type": "code",
   "execution_count": 36,
   "id": "28abaec1-4b0b-4db3-bcf7-30ee5a899f4a",
   "metadata": {},
   "outputs": [
    {
     "name": "stdout",
     "output_type": "stream",
     "text": [
      "0. key: PipelineArn\n",
      "   value: \n",
      "arn:aws:sagemaker:ap-northeast-2:242201274000:pipeline/Cat-Breed-Demo\n",
      "\n",
      "\n",
      "1. key: PipelineExecutionArn\n",
      "   value: \n",
      "arn:aws:sagemaker:ap-northeast-2:242201274000:pipeline/Cat-Breed-Demo/execution/yv706mxnrkmf\n",
      "\n",
      "\n",
      "2. key: PipelineExecutionDisplayName\n",
      "   value: \n",
      "execution-1731907695909\n",
      "\n",
      "\n",
      "3. key: PipelineExecutionStatus\n",
      "   value: \n",
      "Executing\n",
      "\n",
      "\n",
      "4. key: CreationTime\n",
      "   value: \n",
      "2024-11-18 05:28:15.845000+00:00\n",
      "\n",
      "\n",
      "5. key: LastModifiedTime\n",
      "   value: \n",
      "2024-11-18 05:28:15.845000+00:00\n",
      "\n",
      "\n",
      "6. key: CreatedBy\n",
      "   value: \n",
      "{'UserProfileArn': 'arn:aws:sagemaker:ap-northeast-2:242201274000:user-profile/d-l0dltcg6j4kj/default-20240923T230629', 'UserProfileName': 'default-20240923T230629', 'DomainId': 'd-l0dltcg6j4kj', 'IamIdentity': {'Arn': 'arn:aws:sts::242201274000:assumed-role/AmazonSageMaker-ExecutionRole-20240923T230631/SageMaker', 'PrincipalId': 'AROATQZCSE2IHHIBWPD6G:SageMaker'}}\n",
      "\n",
      "\n",
      "7. key: LastModifiedBy\n",
      "   value: \n",
      "{'UserProfileArn': 'arn:aws:sagemaker:ap-northeast-2:242201274000:user-profile/d-l0dltcg6j4kj/default-20240923T230629', 'UserProfileName': 'default-20240923T230629', 'DomainId': 'd-l0dltcg6j4kj', 'IamIdentity': {'Arn': 'arn:aws:sts::242201274000:assumed-role/AmazonSageMaker-ExecutionRole-20240923T230631/SageMaker', 'PrincipalId': 'AROATQZCSE2IHHIBWPD6G:SageMaker'}}\n",
      "\n",
      "\n",
      "8. key: ResponseMetadata\n",
      "   value: \n",
      "{'RequestId': '527512f3-25a0-4427-a784-c479ac3febf1', 'HTTPStatusCode': 200, 'HTTPHeaders': {'x-amzn-requestid': '527512f3-25a0-4427-a784-c479ac3febf1', 'content-type': 'application/x-amz-json-1.1', 'content-length': '1113', 'date': 'Mon, 18 Nov 2024 05:28:15 GMT'}, 'RetryAttempts': 0}\n",
      "\n",
      "\n"
     ]
    }
   ],
   "source": [
    "for idx, (key, item) in enumerate(execution.describe().items()):\n",
    "    print(f\"{idx}. key: {key}\\n   value: \\n{item}\\n\\n\")"
   ]
  },
  {
   "cell_type": "code",
   "execution_count": 37,
   "id": "a42920ab-0d2d-425c-894b-7bf010c5e602",
   "metadata": {},
   "outputs": [],
   "source": [
    "execution.wait()"
   ]
  },
  {
   "cell_type": "code",
   "execution_count": 38,
   "id": "aca318cd-a906-459f-8dc4-32b9dc3645e6",
   "metadata": {},
   "outputs": [
    {
     "data": {
      "text/plain": [
       "[{'StepName': 'CatBreedEval',\n",
       "  'StartTime': datetime.datetime(2024, 11, 18, 5, 28, 16, 945000, tzinfo=tzlocal()),\n",
       "  'EndTime': datetime.datetime(2024, 11, 18, 5, 30, 49, 536000, tzinfo=tzlocal()),\n",
       "  'StepStatus': 'Succeeded',\n",
       "  'Metadata': {'ProcessingJob': {'Arn': 'arn:aws:sagemaker:ap-northeast-2:242201274000:processing-job/pipelines-yv706mxnrkmf-CatBreedEval-kMVDhKekxC'}},\n",
       "  'AttemptCount': 1}]"
      ]
     },
     "execution_count": 38,
     "metadata": {},
     "output_type": "execute_result"
    }
   ],
   "source": [
    "execution.list_steps()"
   ]
  },
  {
   "cell_type": "code",
   "execution_count": 44,
   "id": "7f7b3edb-a5b9-4bfb-9250-30bdcac17fe0",
   "metadata": {},
   "outputs": [
    {
     "name": "stdout",
     "output_type": "stream",
     "text": [
      "pipelines-yv706mxnrkmf-CatBreedEval-kMVDhKekxC\n",
      "s3://sagemaker-ap-northeast-2-242201274000/Cat-Breed-Demo/yv706mxnrkmf/CatBreedEval/output/evaluation\n"
     ]
    }
   ],
   "source": [
    "def get_proc_artifact(execution, client, kind=0):\n",
    "    '''\n",
    "    kind: 0 --> train\n",
    "    kind: 1 --> test\n",
    "    '''\n",
    "    response = execution.list_steps()\n",
    "\n",
    "    proc_arn = response[-1]['Metadata']['ProcessingJob']['Arn'] # index -1은 가장 처음 실행 step\n",
    "    proc_job_name = proc_arn.split('/')[-1]\n",
    "    print(proc_job_name)\n",
    "    \n",
    "    response = client.describe_processing_job(ProcessingJobName = proc_job_name)\n",
    "    test_preprocessed_file = response['ProcessingOutputConfig']['Outputs'][kind]['S3Output']['S3Uri'] \n",
    "    print(test_preprocessed_file)\n",
    "    \n",
    "    return test_preprocessed_file\n",
    "\n",
    "import boto3\n",
    "client = boto3.client(\"sagemaker\")\n",
    "\n",
    "eval_dir_artifact = get_proc_artifact(execution, client, kind=0 )"
   ]
  },
  {
   "cell_type": "code",
   "execution_count": 46,
   "id": "53f87679-1ceb-4086-832d-fd5f00c41497",
   "metadata": {},
   "outputs": [
    {
     "name": "stdout",
     "output_type": "stream",
     "text": [
      "Stored 'eval_dir_artifact' (str)\n"
     ]
    }
   ],
   "source": [
    "%store eval_dir_artifact"
   ]
  },
  {
   "cell_type": "code",
   "execution_count": null,
   "id": "8095187e-85ba-4e85-b1f2-c96d65a06620",
   "metadata": {},
   "outputs": [],
   "source": []
  },
  {
   "cell_type": "code",
   "execution_count": null,
   "id": "5231db5a-0c03-4251-9ea8-6d566ed0bf2c",
   "metadata": {},
   "outputs": [],
   "source": []
  },
  {
   "cell_type": "code",
   "execution_count": null,
   "id": "a03c766f-d74d-4eb1-b822-8f07017890f2",
   "metadata": {},
   "outputs": [],
   "source": []
  },
  {
   "cell_type": "code",
   "execution_count": null,
   "id": "2d2d16f2-ede8-416d-9040-6fa617b367c2",
   "metadata": {},
   "outputs": [],
   "source": []
  },
  {
   "cell_type": "code",
   "execution_count": null,
   "id": "f3dabfdf-62fd-4043-a6d4-2b611d20949d",
   "metadata": {},
   "outputs": [],
   "source": []
  },
  {
   "cell_type": "code",
   "execution_count": null,
   "id": "ae27de98-4223-479b-b7cc-62978afb5ab9",
   "metadata": {},
   "outputs": [],
   "source": []
  },
  {
   "cell_type": "code",
   "execution_count": null,
   "id": "9e7d28ce-6e69-4734-9f63-df9b22e9e32f",
   "metadata": {},
   "outputs": [],
   "source": []
  },
  {
   "cell_type": "code",
   "execution_count": null,
   "id": "f742db58-9bc0-4507-b645-87be24d5ffc0",
   "metadata": {},
   "outputs": [],
   "source": []
  },
  {
   "cell_type": "code",
   "execution_count": null,
   "id": "311de6cf-e995-4c52-8a1e-ce4684d6b02f",
   "metadata": {},
   "outputs": [],
   "source": []
  },
  {
   "cell_type": "code",
   "execution_count": null,
   "id": "e9791264-6b88-4061-8cb5-4fd5040ab196",
   "metadata": {},
   "outputs": [],
   "source": []
  },
  {
   "cell_type": "code",
   "execution_count": null,
   "id": "543547bd-74d5-491e-a453-b09521627b80",
   "metadata": {},
   "outputs": [],
   "source": []
  },
  {
   "cell_type": "code",
   "execution_count": null,
   "id": "fa5fdc2b-df11-47bb-a6a3-57917891875d",
   "metadata": {},
   "outputs": [],
   "source": []
  },
  {
   "cell_type": "code",
   "execution_count": null,
   "id": "0224c568-2597-4f91-9ff1-c7fd597e0a1a",
   "metadata": {},
   "outputs": [],
   "source": []
  },
  {
   "cell_type": "code",
   "execution_count": null,
   "id": "c00c1747-691d-484a-964b-f94970f67eb5",
   "metadata": {},
   "outputs": [],
   "source": []
  },
  {
   "cell_type": "code",
   "execution_count": null,
   "id": "adc2e3ee-98c9-47a2-8e93-2f1adb362e08",
   "metadata": {},
   "outputs": [],
   "source": []
  },
  {
   "cell_type": "code",
   "execution_count": null,
   "id": "5f04c277-25fd-4264-bbd1-414a9528edcc",
   "metadata": {},
   "outputs": [],
   "source": []
  },
  {
   "cell_type": "code",
   "execution_count": null,
   "id": "70ef16c8-e2b3-4dcd-826b-56db98eec478",
   "metadata": {},
   "outputs": [],
   "source": []
  },
  {
   "cell_type": "code",
   "execution_count": null,
   "id": "b6a78703-9993-43ad-becf-c8f9a33c6e6e",
   "metadata": {},
   "outputs": [],
   "source": []
  },
  {
   "cell_type": "code",
   "execution_count": null,
   "id": "4ba7c04a-972c-41a9-aec3-ab80fe9d4634",
   "metadata": {},
   "outputs": [],
   "source": []
  },
  {
   "cell_type": "code",
   "execution_count": null,
   "id": "26b1321a-c1c9-4665-a963-1c6e06098257",
   "metadata": {},
   "outputs": [],
   "source": []
  },
  {
   "cell_type": "code",
   "execution_count": null,
   "id": "10676041-d4d5-4b8a-908a-dc154d4c6e81",
   "metadata": {},
   "outputs": [],
   "source": []
  },
  {
   "cell_type": "code",
   "execution_count": null,
   "id": "9542e530-def8-4c91-94d8-8edd11156567",
   "metadata": {},
   "outputs": [],
   "source": []
  },
  {
   "cell_type": "code",
   "execution_count": null,
   "id": "5d5c38be-65c1-4939-8277-c4eca85ea06d",
   "metadata": {},
   "outputs": [],
   "source": []
  },
  {
   "cell_type": "code",
   "execution_count": null,
   "id": "921f2972-944f-429f-a49d-5330b4493a37",
   "metadata": {},
   "outputs": [],
   "source": []
  },
  {
   "cell_type": "code",
   "execution_count": null,
   "id": "34e559e1-394c-41cc-9f6f-642aef2aa53a",
   "metadata": {},
   "outputs": [],
   "source": []
  },
  {
   "cell_type": "code",
   "execution_count": null,
   "id": "4f1eac5f-7608-43a3-916f-bc0030c9bfd5",
   "metadata": {},
   "outputs": [],
   "source": []
  },
  {
   "cell_type": "code",
   "execution_count": null,
   "id": "1b3ee3dd-801d-431a-9de9-0f5a1a7fd856",
   "metadata": {},
   "outputs": [],
   "source": []
  },
  {
   "cell_type": "code",
   "execution_count": null,
   "id": "4805e265-3011-437c-805d-f2e1163ff0df",
   "metadata": {},
   "outputs": [],
   "source": []
  },
  {
   "cell_type": "code",
   "execution_count": null,
   "id": "3544d179-5099-4e52-af92-98db3fc88804",
   "metadata": {},
   "outputs": [],
   "source": []
  },
  {
   "cell_type": "code",
   "execution_count": null,
   "id": "4d694ec7-5db0-4210-8b3e-14bfec7445bd",
   "metadata": {},
   "outputs": [],
   "source": []
  },
  {
   "cell_type": "code",
   "execution_count": null,
   "id": "feec8465-db9b-44cd-b084-bd3342ac2662",
   "metadata": {},
   "outputs": [],
   "source": []
  },
  {
   "cell_type": "code",
   "execution_count": null,
   "id": "9f5a7cd8-dea2-4c7b-b49a-15c956565207",
   "metadata": {},
   "outputs": [],
   "source": []
  },
  {
   "cell_type": "code",
   "execution_count": null,
   "id": "ad96acc2-df15-482e-84ab-a1f1c64b17ad",
   "metadata": {},
   "outputs": [],
   "source": []
  },
  {
   "cell_type": "code",
   "execution_count": null,
   "id": "c179b34b-c9e3-4caa-87f3-ad0afbc99420",
   "metadata": {},
   "outputs": [],
   "source": []
  },
  {
   "cell_type": "code",
   "execution_count": null,
   "id": "6c39d148-a426-4ab7-ae2a-147ee7ae26a3",
   "metadata": {},
   "outputs": [],
   "source": []
  },
  {
   "cell_type": "code",
   "execution_count": null,
   "id": "f6443e9e-34af-4e0d-a83b-dd8431090088",
   "metadata": {},
   "outputs": [],
   "source": []
  }
 ],
 "metadata": {
  "kernelspec": {
   "display_name": "Python 3 (ipykernel)",
   "language": "python",
   "name": "python3"
  },
  "language_info": {
   "codemirror_mode": {
    "name": "ipython",
    "version": 3
   },
   "file_extension": ".py",
   "mimetype": "text/x-python",
   "name": "python",
   "nbconvert_exporter": "python",
   "pygments_lexer": "ipython3",
   "version": "3.11.9"
  }
 },
 "nbformat": 4,
 "nbformat_minor": 5
}
