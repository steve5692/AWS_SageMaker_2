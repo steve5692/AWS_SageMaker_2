{
 "cells": [
  {
   "cell_type": "code",
   "execution_count": 1,
   "id": "0a5c7216-7082-4f7f-8ce3-789de210d22d",
   "metadata": {},
   "outputs": [
    {
     "name": "stdout",
     "output_type": "stream",
     "text": [
      "Stored variables and their in-db values:\n",
      "bucket                                 -> 'sagemaker-ap-northeast-2-242201274000'\n",
      "controller_name                        -> 'V2LC'\n",
      "default_bucket                         -> 'sagemaker-ap-northeast-2-242201274000'\n",
      "image_uri                              -> '763104351884.dkr.ecr.ap-northeast-2.amazonaws.com\n",
      "input_data_uri                         -> 's3://sagemaker-ap-northeast-2-242201274000/cat-br\n",
      "main_test_name                         -> 'HEV_P2_ACOverLoad_IG1_1'\n",
      "model_package_group_name               -> 'CatBreedModelPackage'\n",
      "preprocessing_code                     -> 'src/ad_parquet_preprocessing.py'\n",
      "project_prefix                         -> 'Cat-Breed-Demo'\n",
      "role                                   -> 'arn:aws:iam::242201274000:role/service-role/Amazo\n",
      "sub_test_name                          -> 'Severe1_Above2.83s_1'\n",
      "test_preproc_dir_artifact              -> 's3://sagemaker-ap-northeast-2-242201274000/Cat-Br\n",
      "train_model_artifact                   -> 's3://sagemaker-ap-northeast-2-242201274000/Kefico\n",
      "train_preproc_dir_artifact             -> 's3://sagemaker-ap-northeast-2-242201274000/Cat-Br\n"
     ]
    }
   ],
   "source": [
    "%store -r\n",
    "%store"
   ]
  },
  {
   "cell_type": "code",
   "execution_count": 2,
   "id": "d927a0be-beba-4529-a180-c636fb94bc05",
   "metadata": {},
   "outputs": [],
   "source": [
    "import sagemaker\n",
    "import sagemaker.workflow as workflow\n",
    "\n",
    "from sagemaker.workflow.parameters import ParameterString, ParameterInteger\n",
    "\n",
    "training_instance_type = ParameterString(\n",
    "    name=\"TrainingInstanceType\",\n",
    "    default_value=\"ml.m5.large\"\n",
    ")\n",
    "\n",
    "training_instance_count = ParameterInteger(\n",
    "    name=\"TrainingInstanceCount\",\n",
    "    default_value=1\n",
    ")"
   ]
  },
  {
   "cell_type": "code",
   "execution_count": 5,
   "id": "2fca9f9c-68c8-4dd0-8aab-385ed6c93b99",
   "metadata": {},
   "outputs": [
    {
     "name": "stderr",
     "output_type": "stream",
     "text": [
      "The input argument instance_type of function (sagemaker.image_uris.retrieve) is a pipeline variable (<class 'sagemaker.workflow.parameters.ParameterString'>), which is interpreted in pipeline execution time only. As the function needs to evaluate the argument value in SDK compile time, the default_value of this Parameter object will be used to override it. Please make sure the default_value is valid.\n"
     ]
    }
   ],
   "source": [
    "from sagemaker import image_uris, model_uris, script_uris\n",
    "\n",
    "model_id, model_version = \"pytorch-ic-resnet18\", \"2.0.0\"\n",
    "\n",
    "# JumpStart 용 기본 모델의 S3 Uri 검색\n",
    "base_model_uri = model_uris.retrieve(\n",
    "    model_id=model_id,\n",
    "    model_version=model_version,\n",
    "    model_scope=\"training\"\n",
    ")\n",
    "\n",
    "# 학습 스크립트 검색\n",
    "training_script_uri = script_uris.retrieve(\n",
    "    model_id=model_id,\n",
    "    model_version=model_version,\n",
    "    script_scope=\"training\"\n",
    ")\n",
    "\n",
    "# 학습 Docker Image 검색\n",
    "model_image_uri = image_uris.retrieve(\n",
    "    region=None,\n",
    "    framework=None,\n",
    "    image_scope=\"training\",\n",
    "    model_id=model_id,\n",
    "    model_version=model_version,\n",
    "    instance_type=training_instance_type\n",
    ")"
   ]
  },
  {
   "cell_type": "code",
   "execution_count": 6,
   "id": "1b28406d-cafa-43c6-8bf1-50bea01db96a",
   "metadata": {},
   "outputs": [
    {
     "name": "stdout",
     "output_type": "stream",
     "text": [
      "<class 'str'> s3://jumpstart-cache-prod-ap-northeast-2/pytorch-training/v2.0.0/train-pytorch-ic-resnet18.tar.gz\n"
     ]
    }
   ],
   "source": [
    "print(type(base_model_uri), base_model_uri)"
   ]
  },
  {
   "cell_type": "code",
   "execution_count": 7,
   "id": "0f726ec8-90db-42bb-a04d-a1d3c9bf0ea2",
   "metadata": {},
   "outputs": [
    {
     "name": "stdout",
     "output_type": "stream",
     "text": [
      "<class 'str'> s3://jumpstart-cache-prod-ap-northeast-2/source-directory-tarballs/pytorch/transfer_learning/ic/v2.0.0/sourcedir.tar.gz\n"
     ]
    }
   ],
   "source": [
    "print(type(training_script_uri), training_script_uri)"
   ]
  },
  {
   "cell_type": "code",
   "execution_count": 8,
   "id": "fe14518e-ad7d-420f-9777-d4146979039d",
   "metadata": {},
   "outputs": [
    {
     "name": "stdout",
     "output_type": "stream",
     "text": [
      "<class 'str'> 763104351884.dkr.ecr.ap-northeast-2.amazonaws.com/pytorch-training:1.10.0-cpu-py38\n"
     ]
    }
   ],
   "source": [
    "print(type(model_image_uri), model_image_uri)"
   ]
  },
  {
   "cell_type": "code",
   "execution_count": 12,
   "id": "21c89aee-7633-4d96-ac4d-731b34e78769",
   "metadata": {},
   "outputs": [
    {
     "name": "stdout",
     "output_type": "stream",
     "text": [
      "{'epochs': '3', 'adam-learning-rate': '0.05', 'batch-size': '4'}\n"
     ]
    }
   ],
   "source": [
    "model_path = f\"s3://{default_bucket}/CatBreedTrain\"\n",
    "\n",
    "from sagemaker.estimator import Estimator\n",
    "from sagemaker import hyperparameters\n",
    "\n",
    "# JumpStart 용 기본 변수 가져오기\n",
    "default_hyperparameters = hyperparameters.retrieve_default(\n",
    "    model_id=model_id,\n",
    "    model_version=model_version\n",
    ")\n",
    "\n",
    "print(default_hyperparameters)"
   ]
  },
  {
   "cell_type": "code",
   "execution_count": 15,
   "id": "4141a07c-4dd7-4773-9429-343aa78b4e4f",
   "metadata": {},
   "outputs": [
    {
     "name": "stdout",
     "output_type": "stream",
     "text": [
      "{'epochs': 5, 'adam-learning-rate': '0.001', 'batch-size': 8, 'reinitialize-top-layer': 'auto', 'train-only-yop-layer': 'True'}\n"
     ]
    }
   ],
   "source": [
    "# hyperparameter는 바꿔줄 수 있음\n",
    "default_hyperparameters['epochs'] = 5\n",
    "default_hyperparameters['batch-size'] = 8\n",
    "default_hyperparameters['adam-learning-rate'] = \"0.001\"\n",
    "default_hyperparameters['reinitialize-top-layer'] = \"auto\"\n",
    "default_hyperparameters['train-only-yop-layer'] = \"True\"\n",
    "\n",
    "print(default_hyperparameters)"
   ]
  },
  {
   "cell_type": "code",
   "execution_count": 16,
   "id": "00cc3248-555a-466f-af55-656ae7971338",
   "metadata": {},
   "outputs": [],
   "source": [
    "# Estimator 생성\n",
    "estimator = Estimator(\n",
    "    image_uri=model_image_uri,\n",
    "    source_dir=training_script_uri,\n",
    "    model_uri=base_model_uri,\n",
    "    entry_point=\"transfer_learning.py\",\n",
    "    role=sagemaker.session.Session().get_caller_identity_arn(),\n",
    "    hyperparameters=default_hyperparameters,\n",
    "    instance_count=training_instance_count,\n",
    "    instance_type=training_instance_type,\n",
    "    enable_network_isolation=True,\n",
    "    output_path=model_path,\n",
    "    disable_profiler=True,\n",
    "    metric_definitions=[{'Name': 'train:Loss', 'Regex': 'train Loss: (\\S+)'},\n",
    "                       {'Name': 'train:Acc', 'Regex': 'train Loss: \\S+ Acc: (\\S+)'},\n",
    "                       {'Name': 'test:Loss', 'Regex': 'test Loss: (\\S+)'},\n",
    "                       {'Name': 'test:Acc', 'Regex': 'test Loss: \\S+ Acc: (\\S+)'},]\n",
    ")"
   ]
  },
  {
   "cell_type": "code",
   "execution_count": 19,
   "id": "6d82bc6a-c2c5-486b-8363-883ee7454c95",
   "metadata": {},
   "outputs": [],
   "source": [
    "from sagemaker.inputs import TrainingInput\n",
    "from sagemaker.workflow.steps import TrainingStep\n",
    "\n",
    "step_train = TrainingStep(\n",
    "    name=\"CatBreedTrain\",\n",
    "    estimator=estimator,\n",
    "    inputs = {\n",
    "        'training': train_preproc_dir_artifact\n",
    "    }\n",
    ")"
   ]
  },
  {
   "cell_type": "code",
   "execution_count": 20,
   "id": "8f63e4d3-3b1c-4620-9fb6-c42eced10d45",
   "metadata": {},
   "outputs": [],
   "source": [
    "from sagemaker.workflow.pipeline import Pipeline\n",
    "\n",
    "project_prefix = \"Cat-Breed-Demo\"\n",
    "\n",
    "pipeline_name = project_prefix\n",
    "pipeline = Pipeline(\n",
    "    name=pipeline_name,\n",
    "    parameters=[\n",
    "        training_instance_type, \n",
    "        training_instance_count,\n",
    "    ],\n",
    "    steps=[step_train],\n",
    ")"
   ]
  },
  {
   "cell_type": "code",
   "execution_count": 21,
   "id": "79419a1e-796f-4d50-b745-07a9e7582a97",
   "metadata": {},
   "outputs": [
    {
     "name": "stderr",
     "output_type": "stream",
     "text": [
      "WARNING:sagemaker.workflow.utilities:Popping out 'TrainingJobName' from the pipeline definition by default since it will be overridden at pipeline execution time. Please utilize the PipelineDefinitionConfig to persist this field in the pipeline definition if desired.\n"
     ]
    },
    {
     "data": {
      "text/plain": [
       "{'Version': '2020-12-01',\n",
       " 'Metadata': {},\n",
       " 'Parameters': [{'Name': 'TrainingInstanceType',\n",
       "   'Type': 'String',\n",
       "   'DefaultValue': 'ml.m5.large'},\n",
       "  {'Name': 'TrainingInstanceCount', 'Type': 'Integer', 'DefaultValue': 1}],\n",
       " 'PipelineExperimentConfig': {'ExperimentName': {'Get': 'Execution.PipelineName'},\n",
       "  'TrialName': {'Get': 'Execution.PipelineExecutionId'}},\n",
       " 'Steps': [{'Name': 'CatBreedTrain',\n",
       "   'Type': 'Training',\n",
       "   'Arguments': {'AlgorithmSpecification': {'TrainingInputMode': 'File',\n",
       "     'TrainingImage': '763104351884.dkr.ecr.ap-northeast-2.amazonaws.com/pytorch-training:1.10.0-cpu-py38',\n",
       "     'MetricDefinitions': [{'Name': 'train:Loss',\n",
       "       'Regex': 'train Loss: (\\\\S+)'},\n",
       "      {'Name': 'train:Acc', 'Regex': 'train Loss: \\\\S+ Acc: (\\\\S+)'},\n",
       "      {'Name': 'test:Loss', 'Regex': 'test Loss: (\\\\S+)'},\n",
       "      {'Name': 'test:Acc', 'Regex': 'test Loss: \\\\S+ Acc: (\\\\S+)'}]},\n",
       "    'OutputDataConfig': {'S3OutputPath': 's3://sagemaker-ap-northeast-2-242201274000/CatBreedTrain'},\n",
       "    'StoppingCondition': {'MaxRuntimeInSeconds': 86400},\n",
       "    'ResourceConfig': {'VolumeSizeInGB': 30,\n",
       "     'InstanceCount': {'Get': 'Parameters.TrainingInstanceCount'},\n",
       "     'InstanceType': {'Get': 'Parameters.TrainingInstanceType'}},\n",
       "    'RoleArn': 'arn:aws:iam::242201274000:role/service-role/AmazonSageMaker-ExecutionRole-20240923T230631',\n",
       "    'InputDataConfig': [{'DataSource': {'S3DataSource': {'S3DataType': 'S3Prefix',\n",
       "        'S3Uri': 's3://sagemaker-ap-northeast-2-242201274000/Cat-Breed-Demo/yexuildyuhgd/CatBreedProcess/output/train',\n",
       "        'S3DataDistributionType': 'FullyReplicated'}},\n",
       "      'ChannelName': 'training'},\n",
       "     {'DataSource': {'S3DataSource': {'S3DataType': 'S3Prefix',\n",
       "        'S3Uri': 's3://jumpstart-cache-prod-ap-northeast-2/pytorch-training/v2.0.0/train-pytorch-ic-resnet18.tar.gz',\n",
       "        'S3DataDistributionType': 'FullyReplicated'}},\n",
       "      'ContentType': 'application/x-sagemaker-model',\n",
       "      'InputMode': 'File',\n",
       "      'ChannelName': 'model'},\n",
       "     {'DataSource': {'S3DataSource': {'S3DataType': 'S3Prefix',\n",
       "        'S3Uri': 's3://jumpstart-cache-prod-ap-northeast-2/source-directory-tarballs/pytorch/transfer_learning/ic/v2.0.0/sourcedir.tar.gz',\n",
       "        'S3DataDistributionType': 'FullyReplicated'}},\n",
       "      'ChannelName': 'code'}],\n",
       "    'HyperParameters': {'epochs': '5',\n",
       "     'adam-learning-rate': '\"0.001\"',\n",
       "     'batch-size': '8',\n",
       "     'reinitialize-top-layer': '\"auto\"',\n",
       "     'train-only-yop-layer': '\"True\"',\n",
       "     'sagemaker_submit_directory': '\"/opt/ml/input/data/code/sourcedir.tar.gz\"',\n",
       "     'sagemaker_program': '\"transfer_learning.py\"',\n",
       "     'sagemaker_container_log_level': '20',\n",
       "     'sagemaker_region': '\"ap-northeast-2\"'},\n",
       "    'Tags': [{'Key': 'aws-jumpstart-training-model-uri',\n",
       "      'Value': 's3://jumpstart-cache-prod-ap-northeast-2/pytorch-training/v2.0.0/train-pytorch-ic-resnet18.tar.gz'},\n",
       "     {'Key': 'aws-jumpstart-training-script-uri',\n",
       "      'Value': 's3://jumpstart-cache-prod-ap-northeast-2/source-directory-tarballs/pytorch/transfer_learning/ic/v2.0.0/sourcedir.tar.gz'}],\n",
       "    'EnableNetworkIsolation': True,\n",
       "    'DebugHookConfig': {'S3OutputPath': 's3://sagemaker-ap-northeast-2-242201274000/CatBreedTrain',\n",
       "     'CollectionConfigurations': []},\n",
       "    'ProfilerConfig': {'DisableProfiler': True}}}]}"
      ]
     },
     "execution_count": 21,
     "metadata": {},
     "output_type": "execute_result"
    }
   ],
   "source": [
    "import json\n",
    "\n",
    "definition = json.loads(pipeline.definition())\n",
    "definition"
   ]
  },
  {
   "cell_type": "code",
   "execution_count": 22,
   "id": "0470bf4b-16e9-43b5-9893-24600c4e7ce1",
   "metadata": {},
   "outputs": [
    {
     "name": "stderr",
     "output_type": "stream",
     "text": [
      "WARNING:sagemaker.workflow.utilities:Popping out 'TrainingJobName' from the pipeline definition by default since it will be overridden at pipeline execution time. Please utilize the PipelineDefinitionConfig to persist this field in the pipeline definition if desired.\n",
      "WARNING:sagemaker.workflow.utilities:Popping out 'TrainingJobName' from the pipeline definition by default since it will be overridden at pipeline execution time. Please utilize the PipelineDefinitionConfig to persist this field in the pipeline definition if desired.\n"
     ]
    }
   ],
   "source": [
    "pipeline.upsert(role_arn=role)\n",
    "execution = pipeline.start()"
   ]
  },
  {
   "cell_type": "code",
   "execution_count": 23,
   "id": "542ff225-b6e0-4191-ade3-39e6a90cf9fc",
   "metadata": {},
   "outputs": [
    {
     "data": {
      "text/plain": [
       "dict"
      ]
     },
     "execution_count": 23,
     "metadata": {},
     "output_type": "execute_result"
    }
   ],
   "source": [
    "type(execution.describe())"
   ]
  },
  {
   "cell_type": "code",
   "execution_count": 24,
   "id": "b70d5040-3908-4f30-9c11-c3fbebd86993",
   "metadata": {},
   "outputs": [
    {
     "name": "stdout",
     "output_type": "stream",
     "text": [
      "0. key: PipelineArn\n",
      "   value: \n",
      "arn:aws:sagemaker:ap-northeast-2:242201274000:pipeline/Cat-Breed-Demo\n",
      "\n",
      "\n",
      "1. key: PipelineExecutionArn\n",
      "   value: \n",
      "arn:aws:sagemaker:ap-northeast-2:242201274000:pipeline/Cat-Breed-Demo/execution/i6gc1y5pctlm\n",
      "\n",
      "\n",
      "2. key: PipelineExecutionDisplayName\n",
      "   value: \n",
      "execution-1731904279773\n",
      "\n",
      "\n",
      "3. key: PipelineExecutionStatus\n",
      "   value: \n",
      "Executing\n",
      "\n",
      "\n",
      "4. key: PipelineExperimentConfig\n",
      "   value: \n",
      "{'ExperimentName': 'cat-breed-demo', 'TrialName': 'i6gc1y5pctlm'}\n",
      "\n",
      "\n",
      "5. key: CreationTime\n",
      "   value: \n",
      "2024-11-18 04:31:19.670000+00:00\n",
      "\n",
      "\n",
      "6. key: LastModifiedTime\n",
      "   value: \n",
      "2024-11-18 04:31:19.670000+00:00\n",
      "\n",
      "\n",
      "7. key: CreatedBy\n",
      "   value: \n",
      "{'UserProfileArn': 'arn:aws:sagemaker:ap-northeast-2:242201274000:user-profile/d-l0dltcg6j4kj/default-20240923T230629', 'UserProfileName': 'default-20240923T230629', 'DomainId': 'd-l0dltcg6j4kj', 'IamIdentity': {'Arn': 'arn:aws:sts::242201274000:assumed-role/AmazonSageMaker-ExecutionRole-20240923T230631/SageMaker', 'PrincipalId': 'AROATQZCSE2IHHIBWPD6G:SageMaker'}}\n",
      "\n",
      "\n",
      "8. key: LastModifiedBy\n",
      "   value: \n",
      "{'UserProfileArn': 'arn:aws:sagemaker:ap-northeast-2:242201274000:user-profile/d-l0dltcg6j4kj/default-20240923T230629', 'UserProfileName': 'default-20240923T230629', 'DomainId': 'd-l0dltcg6j4kj', 'IamIdentity': {'Arn': 'arn:aws:sts::242201274000:assumed-role/AmazonSageMaker-ExecutionRole-20240923T230631/SageMaker', 'PrincipalId': 'AROATQZCSE2IHHIBWPD6G:SageMaker'}}\n",
      "\n",
      "\n",
      "9. key: ResponseMetadata\n",
      "   value: \n",
      "{'RequestId': '16a84d35-3fef-4b23-80cd-391dda6cbaf5', 'HTTPStatusCode': 200, 'HTTPHeaders': {'x-amzn-requestid': '16a84d35-3fef-4b23-80cd-391dda6cbaf5', 'content-type': 'application/x-amz-json-1.1', 'content-length': '1201', 'date': 'Mon, 18 Nov 2024 04:31:31 GMT'}, 'RetryAttempts': 0}\n",
      "\n",
      "\n"
     ]
    }
   ],
   "source": [
    "for idx, (key, item) in enumerate(execution.describe().items()):\n",
    "    print(f\"{idx}. key: {key}\\n   value: \\n{item}\\n\\n\")"
   ]
  },
  {
   "cell_type": "code",
   "execution_count": 26,
   "id": "d3297d64-a7c4-435f-8ca3-7d02481a8af3",
   "metadata": {},
   "outputs": [],
   "source": [
    "execution.wait()"
   ]
  },
  {
   "cell_type": "code",
   "execution_count": 27,
   "id": "5a9c1168-a4eb-4097-ab2a-5b01ca73891c",
   "metadata": {},
   "outputs": [
    {
     "data": {
      "text/plain": [
       "[{'StepName': 'CatBreedTrain',\n",
       "  'StartTime': datetime.datetime(2024, 11, 18, 4, 31, 20, 926000, tzinfo=tzlocal()),\n",
       "  'EndTime': datetime.datetime(2024, 11, 18, 4, 35, 20, 219000, tzinfo=tzlocal()),\n",
       "  'StepStatus': 'Succeeded',\n",
       "  'Metadata': {'TrainingJob': {'Arn': 'arn:aws:sagemaker:ap-northeast-2:242201274000:training-job/pipelines-i6gc1y5pctlm-CatBreedTrain-wioBAR6TLe'}},\n",
       "  'AttemptCount': 1}]"
      ]
     },
     "execution_count": 27,
     "metadata": {},
     "output_type": "execute_result"
    }
   ],
   "source": [
    "execution.list_steps()"
   ]
  },
  {
   "cell_type": "code",
   "execution_count": 50,
   "id": "f0cde457-a137-4a24-976c-732b1b93fae1",
   "metadata": {},
   "outputs": [],
   "source": [
    "import boto3\n",
    "\n",
    "def get_train_artifact(execution, client, job_type,  kind=0):\n",
    "    '''\n",
    "    kind: 0 --> train\n",
    "    kind: 2 --> test\n",
    "    '''\n",
    "    response = execution.list_steps()\n",
    "    # print(\"response: \", response[0]['Metadata'][job_type]['Arn'])\n",
    "    proc_arn = response[0]['Metadata'][job_type]['Arn']\n",
    "    train_job_name = proc_arn.split('/')[-1]\n",
    "    # print(\"train_job_name: \", train_job_name)\n",
    "    response = client.describe_training_job(TrainingJobName = train_job_name)\n",
    "    # print(\"\\nresponse: \", type(response))\n",
    "    # for idx, (key, value) in enumerate(response.items()):\n",
    "    #     print(f\"{idx}.key: {key}\\nvalue: {value}\\n\")\n",
    "    train_model_artifact = response['ModelArtifacts']['S3ModelArtifacts']    \n",
    "    \n",
    "    return train_model_artifact\n",
    "    \n",
    "client = boto3.client(\"sagemaker\")\n",
    "\n",
    "train_model_artifact = get_train_artifact(execution, client, job_type='TrainingJob', kind=0)"
   ]
  },
  {
   "cell_type": "code",
   "execution_count": 51,
   "id": "b665c3ea-a964-466e-90fd-3499cbb49afe",
   "metadata": {},
   "outputs": [
    {
     "data": {
      "text/plain": [
       "'s3://sagemaker-ap-northeast-2-242201274000/CatBreedTrain/pipelines-i6gc1y5pctlm-CatBreedTrain-wioBAR6TLe/output/model.tar.gz'"
      ]
     },
     "execution_count": 51,
     "metadata": {},
     "output_type": "execute_result"
    }
   ],
   "source": [
    "train_model_artifact"
   ]
  },
  {
   "cell_type": "code",
   "execution_count": 53,
   "id": "d9996c76-6c50-494f-ad9a-fde0aa2cf365",
   "metadata": {},
   "outputs": [
    {
     "name": "stdout",
     "output_type": "stream",
     "text": [
      "Stored 'train_model_artifact' (str)\n",
      "Stored 'base_model_uri' (str)\n",
      "Stored 'training_script_uri' (str)\n",
      "Stored 'model_image_uri' (str)\n",
      "Stored 'model_id' (str)\n",
      "Stored 'model_version' (str)\n"
     ]
    }
   ],
   "source": [
    "%store train_model_artifact\n",
    "%store base_model_uri\n",
    "%store training_script_uri\n",
    "%store model_image_uri\n",
    "%store model_id\n",
    "%store model_version\n",
    "\n",
    "# %store\n",
    "# %store\n",
    "# %store\n",
    "# %store\n",
    "# %store\n",
    "# %store"
   ]
  },
  {
   "cell_type": "code",
   "execution_count": null,
   "id": "7c7f1731-98d7-4cc3-9846-5c54e2948b77",
   "metadata": {},
   "outputs": [],
   "source": []
  },
  {
   "cell_type": "code",
   "execution_count": null,
   "id": "c598ae29-5503-4bf8-8ae6-5978ccccb8a9",
   "metadata": {},
   "outputs": [],
   "source": []
  },
  {
   "cell_type": "code",
   "execution_count": null,
   "id": "f4489658-fa26-4a85-ab6e-dcf05a216ea7",
   "metadata": {},
   "outputs": [],
   "source": []
  },
  {
   "cell_type": "code",
   "execution_count": null,
   "id": "db82fc99-8051-409d-92c2-d6cd3185164c",
   "metadata": {},
   "outputs": [],
   "source": []
  },
  {
   "cell_type": "code",
   "execution_count": null,
   "id": "69ea0ad9-3625-4da1-99cb-6f79380a2740",
   "metadata": {},
   "outputs": [],
   "source": []
  },
  {
   "cell_type": "code",
   "execution_count": null,
   "id": "02d32c20-c923-4f9f-8d3c-c7a265e038a4",
   "metadata": {},
   "outputs": [],
   "source": []
  },
  {
   "cell_type": "code",
   "execution_count": null,
   "id": "1af6cf67-f36b-4980-8cff-6e7c7cbb76eb",
   "metadata": {},
   "outputs": [],
   "source": []
  },
  {
   "cell_type": "code",
   "execution_count": null,
   "id": "290fc227-f52a-44b1-97b6-054ee37aefc4",
   "metadata": {},
   "outputs": [],
   "source": []
  },
  {
   "cell_type": "code",
   "execution_count": null,
   "id": "dcd21d5c-a103-42ba-9428-8a6fcf93ea82",
   "metadata": {},
   "outputs": [],
   "source": []
  },
  {
   "cell_type": "code",
   "execution_count": null,
   "id": "ae6f7603-d06c-4e79-ac8d-ab667e6deb57",
   "metadata": {},
   "outputs": [],
   "source": []
  },
  {
   "cell_type": "code",
   "execution_count": null,
   "id": "aa42fed5-7da2-46bf-a926-57ef6d864a6f",
   "metadata": {},
   "outputs": [],
   "source": []
  },
  {
   "cell_type": "code",
   "execution_count": null,
   "id": "eabe4a6d-2748-4316-b099-898fced48fd0",
   "metadata": {},
   "outputs": [],
   "source": []
  },
  {
   "cell_type": "code",
   "execution_count": null,
   "id": "19fe9299-1cae-4c8d-8aba-a7220fb33d02",
   "metadata": {},
   "outputs": [],
   "source": []
  },
  {
   "cell_type": "code",
   "execution_count": null,
   "id": "e971685d-0f1a-4d8c-b7c9-f70c7c7a2833",
   "metadata": {},
   "outputs": [],
   "source": []
  },
  {
   "cell_type": "code",
   "execution_count": null,
   "id": "7532890e-f9ff-44d4-bd8e-087d7c6e80f3",
   "metadata": {},
   "outputs": [],
   "source": []
  },
  {
   "cell_type": "code",
   "execution_count": null,
   "id": "962f06ce-1b4b-4959-9718-93033cecbf0e",
   "metadata": {},
   "outputs": [],
   "source": []
  },
  {
   "cell_type": "code",
   "execution_count": null,
   "id": "3d8e76f0-2458-4d80-a686-be098156f31c",
   "metadata": {},
   "outputs": [],
   "source": []
  },
  {
   "cell_type": "code",
   "execution_count": null,
   "id": "18313f0f-0269-472c-ad07-a4a54919b83a",
   "metadata": {},
   "outputs": [],
   "source": []
  },
  {
   "cell_type": "code",
   "execution_count": null,
   "id": "a4ced438-f778-485f-87bf-171b58f95ccd",
   "metadata": {},
   "outputs": [],
   "source": []
  }
 ],
 "metadata": {
  "kernelspec": {
   "display_name": "Python 3 (ipykernel)",
   "language": "python",
   "name": "python3"
  },
  "language_info": {
   "codemirror_mode": {
    "name": "ipython",
    "version": 3
   },
   "file_extension": ".py",
   "mimetype": "text/x-python",
   "name": "python",
   "nbconvert_exporter": "python",
   "pygments_lexer": "ipython3",
   "version": "3.11.9"
  }
 },
 "nbformat": 4,
 "nbformat_minor": 5
}
