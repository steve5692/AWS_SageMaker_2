{
 "cells": [
  {
   "cell_type": "code",
   "execution_count": 9,
   "id": "db90d4b3-af04-426a-a183-c5ba7b1ccb5d",
   "metadata": {},
   "outputs": [
    {
     "name": "stdout",
     "output_type": "stream",
     "text": [
      "Stored variables and their in-db values:\n",
      "base_model_uri                         -> 's3://jumpstart-cache-prod-ap-northeast-2/pytorch-\n",
      "bucket                                 -> 'sagemaker-ap-northeast-2-242201274000'\n",
      "controller_name                        -> 'V2LC'\n",
      "default_bucket                         -> 'sagemaker-ap-northeast-2-242201274000'\n",
      "eval_dir_artifact                      -> 's3://sagemaker-ap-northeast-2-242201274000/Cat-Br\n",
      "image_uri                              -> '763104351884.dkr.ecr.ap-northeast-2.amazonaws.com\n",
      "input_data_uri                         -> 's3://sagemaker-ap-northeast-2-242201274000/cat-br\n",
      "main_test_name                         -> 'HEV_P2_ACOverLoad_IG1_1'\n",
      "model_id                               -> 'pytorch-ic-resnet18'\n",
      "model_image_uri                        -> '763104351884.dkr.ecr.ap-northeast-2.amazonaws.com\n",
      "model_package_group_name               -> 'CatBreedModelPackage'\n",
      "model_version                          -> '2.0.0'\n",
      "preprocessing_code                     -> 'src/ad_parquet_preprocessing.py'\n",
      "project_prefix                         -> 'Cat-Breed-Demo'\n",
      "role                                   -> 'arn:aws:iam::242201274000:role/service-role/Amazo\n",
      "sub_test_name                          -> 'Severe1_Above2.83s_1'\n",
      "test_preproc_dir_artifact              -> 's3://sagemaker-ap-northeast-2-242201274000/Cat-Br\n",
      "train_model_artifact                   -> 's3://sagemaker-ap-northeast-2-242201274000/CatBre\n",
      "train_preproc_dir_artifact             -> 's3://sagemaker-ap-northeast-2-242201274000/Cat-Br\n",
      "training_script_uri                    -> 's3://jumpstart-cache-prod-ap-northeast-2/source-d\n"
     ]
    }
   ],
   "source": [
    "%store -r\n",
    "%store"
   ]
  },
  {
   "cell_type": "code",
   "execution_count": 16,
   "id": "d78021a5-782d-4438-a836-699d4a637a9d",
   "metadata": {},
   "outputs": [],
   "source": [
    "from sagemaker.workflow.parameters import ParameterInteger, ParameterString\n",
    "\n",
    "inference_instance_type = ParameterString(\n",
    "    name=\"InferenceInstanceType\",\n",
    "    default_value=\"ml.m5.large\"\n",
    ")\n",
    "\n",
    "inference_instance_count = ParameterInteger(\n",
    "    name=\"InferenceInstanceCount\",\n",
    "    default_value=1\n",
    ")\n",
    "\n",
    "model_approval_status = ParameterString(\n",
    "    name=\"ModelApprovalStatus\",\n",
    "    default_value=\"Approved\"\n",
    ")"
   ]
  },
  {
   "cell_type": "code",
   "execution_count": 5,
   "id": "7be876d8-fb57-4760-8a37-2b33c81057ea",
   "metadata": {},
   "outputs": [
    {
     "name": "stderr",
     "output_type": "stream",
     "text": [
      "The input argument instance_type of function (sagemaker.image_uris.retrieve) is a pipeline variable (<class 'sagemaker.workflow.parameters.ParameterString'>), which is interpreted in pipeline execution time only. As the function needs to evaluate the argument value in SDK compile time, the default_value of this Parameter object will be used to override it. Please make sure the default_value is valid.\n"
     ]
    },
    {
     "name": "stdout",
     "output_type": "stream",
     "text": [
      "inference_image_url:  763104351884.dkr.ecr.ap-northeast-2.amazonaws.com/pytorch-inference:1.10.2-cpu-py38\n"
     ]
    }
   ],
   "source": [
    "import logging\n",
    "from sagemaker.model import Model\n",
    "from sagemaker.pytorch import PyTorchModel\n",
    "from sagemaker import image_uris, script_uris\n",
    "\n",
    "inference_image_url = image_uris.retrieve(\n",
    "    framework='pytorch',\n",
    "    region='ap-northeast-2',\n",
    "    version='1.10.2',\n",
    "    py_version='py38',\n",
    "    image_scope='inference',\n",
    "    instance_type=inference_instance_type\n",
    ")\n",
    "\n",
    "print('inference_image_url: ', inference_image_url)"
   ]
  },
  {
   "cell_type": "code",
   "execution_count": 11,
   "id": "d08bd570-7567-4cc9-bad4-3bdb7abdb75b",
   "metadata": {},
   "outputs": [
    {
     "name": "stdout",
     "output_type": "stream",
     "text": [
      "deploy_source_uri: s3://jumpstart-cache-prod-ap-northeast-2/source-directory-tarballs/pytorch/inference/ic/v2.0.0/sourcedir.tar.gz\n"
     ]
    }
   ],
   "source": [
    "# 추론용 스크립트 uri 검색\n",
    "deploy_source_uri = script_uris.retrieve(\n",
    "    model_id=model_id,\n",
    "    model_version=model_version, \n",
    "    script_scope=\"inference\"\n",
    ")\n",
    "\n",
    "print(f\"deploy_source_uri: {deploy_source_uri}\")"
   ]
  },
  {
   "cell_type": "code",
   "execution_count": 23,
   "id": "70b1d96b-96b1-4bb6-886d-4496fc6cb06d",
   "metadata": {},
   "outputs": [],
   "source": [
    "from sagemaker.workflow.pipeline_context import PipelineSession\n",
    "\n",
    "pipeline_session = PipelineSession()\n",
    "\n",
    "model_name = \"CatBreedClassification\"\n",
    "model = Model(\n",
    "    name=model_name,\n",
    "    image_uri=inference_image_url,\n",
    "    model_data=train_model_artifact,\n",
    "    # source_dir='inference_script1',\n",
    "    # entry_point=\"inference.py\",\n",
    "    sagemaker_session=pipeline_session,\n",
    "    role=role\n",
    ")"
   ]
  },
  {
   "cell_type": "code",
   "execution_count": 24,
   "id": "32bb4287-32ce-4648-ac16-85d735eb3707",
   "metadata": {},
   "outputs": [
    {
     "name": "stderr",
     "output_type": "stream",
     "text": [
      "/opt/conda/lib/python3.11/site-packages/sagemaker/workflow/pipeline_context.py:332: UserWarning: Running within a PipelineSession, there will be No Wait, No Logs, and No Job being started.\n",
      "  warnings.warn(\n"
     ]
    }
   ],
   "source": [
    "from sagemaker.workflow.model_step import ModelStep\n",
    "\n",
    "register_model_steps_args = model.register(\n",
    "    content_types=[\"application/x-image\"],\n",
    "    response_types=[\"application/json\"],\n",
    "    inference_instances=[\"ml.m5.large\"],\n",
    "    transform_instances=[\"ml.m5.large\"],\n",
    "    model_package_group_name=model_package_group_name,\n",
    "    approval_status=\"Approved\"\n",
    ")\n",
    "\n",
    "step_register = ModelStep(\n",
    "    name=\"CatBreedRegisterModel\",\n",
    "    step_args=register_model_steps_args\n",
    ")"
   ]
  },
  {
   "cell_type": "code",
   "execution_count": 32,
   "id": "0eee30b1-d5c5-474f-bf5a-e654040a1a66",
   "metadata": {},
   "outputs": [
    {
     "name": "stdout",
     "output_type": "stream",
     "text": [
      "Using ARN fromexisting role: lambda-deployment-role\n",
      "arn:aws:iam::242201274000:role/lambda-deployment-role\n"
     ]
    }
   ],
   "source": [
    "from iam_helper import create_lambda_role\n",
    "import time\n",
    "from sagemaker.workflow.lambda_step import LambdaStep, LambdaOutput, LambdaOutputTypeEnum\n",
    "from sagemaker.lambda_helper import Lambda\n",
    "\n",
    "lambda_role = create_lambda_role(\"lambda-deployment-role\")\n",
    "print(lambda_role)\n",
    "\n",
    "# 현재 시간을 사용해 생성된 리소스에 고유한 이름 부여\n",
    "current_time = time.strftime(\"%m-%d-%H-%M-%S\", time.localtime())\n",
    "deploy_model_name_prefix = model_name\n",
    "endpoint_config_name_prefix = \"cat-breed-ep-config\"\n",
    "endpoint_name = \"cat-breed-ep-sync\"\n",
    "function_name = \"sagemaker-cat-breed-lambda-step\" + current_time\n",
    "s3_prefix = \"CatBreedPred\"\n",
    "\n",
    "# Lambda Helper 클래스를 사용해 Lambda 함수 생성\n",
    "func = Lambda(\n",
    "    function_name=function_name,\n",
    "    execution_role_arn=lambda_role,\n",
    "    script=\"cat-breed/lambda_deployer.py\",\n",
    "    handler=\"lambda_deployer.lambda_handler\",\n",
    "    timeout=600,\n",
    "    memory_size=3008\n",
    ")\n",
    "\n",
    "lambda_create_res = func.create()\n",
    "\n",
    "func_from_exist_lambda = Lambda(\n",
    "    function_arn=lambda_create_res[\"FunctionArn\"]\n",
    ")"
   ]
  },
  {
   "cell_type": "code",
   "execution_count": 31,
   "id": "f0f66e51-b454-4b65-98b3-29107be60bd7",
   "metadata": {},
   "outputs": [
    {
     "name": "stdout",
     "output_type": "stream",
     "text": [
      "0.key: ResponseMetadata\n",
      "value: {'RequestId': '5c8751e1-d680-4078-86a7-41b491f099a6', 'HTTPStatusCode': 201, 'HTTPHeaders': {'date': 'Mon, 18 Nov 2024 06:30:37 GMT', 'content-type': 'application/json', 'content-length': '1439', 'connection': 'keep-alive', 'x-amzn-requestid': '5c8751e1-d680-4078-86a7-41b491f099a6'}, 'RetryAttempts': 0}\n",
      "\n",
      "1.key: FunctionName\n",
      "value: sagemaker-cat-breed-lambda-step11-18-06-30-37\n",
      "\n",
      "2.key: FunctionArn\n",
      "value: arn:aws:lambda:ap-northeast-2:242201274000:function:sagemaker-cat-breed-lambda-step11-18-06-30-37\n",
      "\n",
      "3.key: Runtime\n",
      "value: python3.8\n",
      "\n",
      "4.key: Role\n",
      "value: arn:aws:iam::242201274000:role/lambda-deployment-role\n",
      "\n",
      "5.key: Handler\n",
      "value: lambda_deployer.lambda_handler\n",
      "\n",
      "6.key: CodeSize\n",
      "value: 1746\n",
      "\n",
      "7.key: Description\n",
      "value: \n",
      "\n",
      "8.key: Timeout\n",
      "value: 600\n",
      "\n",
      "9.key: MemorySize\n",
      "value: 3008\n",
      "\n",
      "10.key: LastModified\n",
      "value: 2024-11-18T06:30:37.397+0000\n",
      "\n",
      "11.key: CodeSha256\n",
      "value: 15TPpCbMcRigbKM063HDNNU7AIj+vEdwbyFB0I5Uqmc=\n",
      "\n",
      "12.key: Version\n",
      "value: $LATEST\n",
      "\n",
      "13.key: TracingConfig\n",
      "value: {'Mode': 'PassThrough'}\n",
      "\n",
      "14.key: RevisionId\n",
      "value: de6fe09e-a2be-4461-a545-fde447459847\n",
      "\n",
      "15.key: Layers\n",
      "value: []\n",
      "\n",
      "16.key: State\n",
      "value: Pending\n",
      "\n",
      "17.key: StateReason\n",
      "value: The function is being created.\n",
      "\n",
      "18.key: StateReasonCode\n",
      "value: Creating\n",
      "\n",
      "19.key: PackageType\n",
      "value: Zip\n",
      "\n",
      "20.key: Architectures\n",
      "value: ['x86_64']\n",
      "\n",
      "21.key: EphemeralStorage\n",
      "value: {'Size': 512}\n",
      "\n",
      "22.key: SnapStart\n",
      "value: {'ApplyOn': 'None', 'OptimizationStatus': 'Off'}\n",
      "\n",
      "23.key: RuntimeVersionConfig\n",
      "value: {'RuntimeVersionArn': 'arn:aws:lambda:ap-northeast-2::runtime:5a6ba717c5ec61b07c45bfa410d2b0e1b3145c036de3e9a9836d00c33962096f'}\n",
      "\n",
      "24.key: LoggingConfig\n",
      "value: {'LogFormat': 'Text', 'LogGroup': '/aws/lambda/sagemaker-cat-breed-lambda-step11-18-06-30-37'}\n",
      "\n"
     ]
    }
   ],
   "source": [
    "for idx, (key, value) in enumerate(lambda_create_res.items()):\n",
    "    print(f\"{idx}.key: {key}\\nvalue: {value}\\n\")"
   ]
  },
  {
   "cell_type": "code",
   "execution_count": 34,
   "id": "d5224d89-f55c-4fde-a1a9-bceaaa9364ec",
   "metadata": {},
   "outputs": [],
   "source": [
    "# Lambda Step 생성\n",
    "\n",
    "# Lambda 함수의 Output: LambdaOutput에 의해 캡쳐되고 있음.\n",
    "output_param_1 = LambdaOutput(output_name=\"statusCode\",\n",
    "                              output_type=LambdaOutputTypeEnum.String)\n",
    "\n",
    "output_param_2 = LambdaOutput(output_name=\"body\",\n",
    "                              output_type=LambdaOutputTypeEnum.String)\n",
    "\n",
    "# Lambda 함수에 제공된 입력 (event): Event 객체로 검색해라.\n",
    "step_deploy_lambda = LambdaStep(\n",
    "    name=\"CatBreedDeploy\",\n",
    "    lambda_func=func_from_exist_lambda,\n",
    "    inputs = {\n",
    "        \"model_name\": deploy_model_name_prefix,\n",
    "        \"endpoint_config_name\": endpoint_config_name_prefix,\n",
    "        \"endpoint_name\": endpoint_name,\n",
    "        \"model_package_arn\": step_register.steps[-1].properties.ModelPackageArn,\n",
    "        \"role\": role\n",
    "    },\n",
    "    outputs = [output_param_1, output_param_2]\n",
    ")\n"
   ]
  },
  {
   "cell_type": "code",
   "execution_count": null,
   "id": "655f7a14-2396-4197-8a3e-132f65e30e56",
   "metadata": {},
   "outputs": [],
   "source": []
  },
  {
   "cell_type": "code",
   "execution_count": null,
   "id": "b1e87fab-1ec9-4afa-895e-d38f34f97da4",
   "metadata": {},
   "outputs": [],
   "source": []
  },
  {
   "cell_type": "code",
   "execution_count": null,
   "id": "05dd7682-9d45-4b01-bdd1-58e037465603",
   "metadata": {},
   "outputs": [],
   "source": []
  },
  {
   "cell_type": "code",
   "execution_count": null,
   "id": "c121e8b3-dbdb-4a50-b087-fa424519866b",
   "metadata": {},
   "outputs": [],
   "source": []
  },
  {
   "cell_type": "code",
   "execution_count": null,
   "id": "9d4b4f39-d590-4d8b-b094-c543f3c52f4a",
   "metadata": {},
   "outputs": [],
   "source": []
  },
  {
   "cell_type": "code",
   "execution_count": null,
   "id": "b1f2b124-60d5-473d-89ad-437ab4651a15",
   "metadata": {},
   "outputs": [],
   "source": []
  },
  {
   "cell_type": "code",
   "execution_count": null,
   "id": "5d073167-339b-4edd-8c5a-0ea320caf764",
   "metadata": {},
   "outputs": [],
   "source": []
  },
  {
   "cell_type": "code",
   "execution_count": null,
   "id": "b0c4c19c-81d4-4e69-b814-2d3cfe014db1",
   "metadata": {},
   "outputs": [],
   "source": []
  },
  {
   "cell_type": "code",
   "execution_count": null,
   "id": "eb2cf299-e135-4d1e-90f2-c61f5b8809b0",
   "metadata": {},
   "outputs": [],
   "source": []
  },
  {
   "cell_type": "code",
   "execution_count": null,
   "id": "7126f7b5-98e9-4592-92e2-21df510d4624",
   "metadata": {},
   "outputs": [],
   "source": []
  },
  {
   "cell_type": "code",
   "execution_count": null,
   "id": "e5d5572a-c79c-4bf3-abfb-3d2b14fd303f",
   "metadata": {},
   "outputs": [],
   "source": []
  },
  {
   "cell_type": "code",
   "execution_count": null,
   "id": "eb4438be-4fb9-447b-a9bc-856aa919a2fb",
   "metadata": {},
   "outputs": [],
   "source": []
  },
  {
   "cell_type": "code",
   "execution_count": null,
   "id": "809f4671-2dca-4077-be67-a857255eb194",
   "metadata": {},
   "outputs": [],
   "source": []
  },
  {
   "cell_type": "code",
   "execution_count": null,
   "id": "e4b825d1-94ef-4906-9149-f0df75a13412",
   "metadata": {},
   "outputs": [],
   "source": []
  },
  {
   "cell_type": "code",
   "execution_count": null,
   "id": "a285143e-aa19-4264-a7f6-fda8dca848b8",
   "metadata": {},
   "outputs": [],
   "source": []
  },
  {
   "cell_type": "code",
   "execution_count": null,
   "id": "49c9d5ec-274c-4815-bacd-01a9a64e4de2",
   "metadata": {},
   "outputs": [],
   "source": []
  }
 ],
 "metadata": {
  "kernelspec": {
   "display_name": "Python 3 (ipykernel)",
   "language": "python",
   "name": "python3"
  },
  "language_info": {
   "codemirror_mode": {
    "name": "ipython",
    "version": 3
   },
   "file_extension": ".py",
   "mimetype": "text/x-python",
   "name": "python",
   "nbconvert_exporter": "python",
   "pygments_lexer": "ipython3",
   "version": "3.11.9"
  }
 },
 "nbformat": 4,
 "nbformat_minor": 5
}
